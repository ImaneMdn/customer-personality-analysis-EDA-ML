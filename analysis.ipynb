{
 "cells": [
  {
   "cell_type": "code",
   "execution_count": 160,
   "metadata": {},
   "outputs": [],
   "source": [
    "import numpy as np\n",
    "import pandas as pd\n",
    "import seaborn as sns\n",
    "import matplotlib.pyplot as plt\n",
    "%matplotlib inline"
   ]
  },
  {
   "cell_type": "code",
   "execution_count": 161,
   "metadata": {},
   "outputs": [
    {
     "data": {
      "text/html": [
       "<div>\n",
       "<style scoped>\n",
       "    .dataframe tbody tr th:only-of-type {\n",
       "        vertical-align: middle;\n",
       "    }\n",
       "\n",
       "    .dataframe tbody tr th {\n",
       "        vertical-align: top;\n",
       "    }\n",
       "\n",
       "    .dataframe thead th {\n",
       "        text-align: right;\n",
       "    }\n",
       "</style>\n",
       "<table border=\"1\" class=\"dataframe\">\n",
       "  <thead>\n",
       "    <tr style=\"text-align: right;\">\n",
       "      <th></th>\n",
       "      <th>ID</th>\n",
       "      <th>Year_Birth</th>\n",
       "      <th>Education</th>\n",
       "      <th>Marital_Status</th>\n",
       "      <th>Income</th>\n",
       "      <th>Kidhome</th>\n",
       "      <th>Teenhome</th>\n",
       "      <th>Dt_Customer</th>\n",
       "      <th>Recency</th>\n",
       "      <th>MntWines</th>\n",
       "      <th>...</th>\n",
       "      <th>NumWebVisitsMonth</th>\n",
       "      <th>AcceptedCmp3</th>\n",
       "      <th>AcceptedCmp4</th>\n",
       "      <th>AcceptedCmp5</th>\n",
       "      <th>AcceptedCmp1</th>\n",
       "      <th>AcceptedCmp2</th>\n",
       "      <th>Complain</th>\n",
       "      <th>Z_CostContact</th>\n",
       "      <th>Z_Revenue</th>\n",
       "      <th>Response</th>\n",
       "    </tr>\n",
       "  </thead>\n",
       "  <tbody>\n",
       "    <tr>\n",
       "      <th>0</th>\n",
       "      <td>5524</td>\n",
       "      <td>1957</td>\n",
       "      <td>Graduation</td>\n",
       "      <td>Single</td>\n",
       "      <td>58138.0</td>\n",
       "      <td>0</td>\n",
       "      <td>0</td>\n",
       "      <td>04-09-2012</td>\n",
       "      <td>58</td>\n",
       "      <td>635</td>\n",
       "      <td>...</td>\n",
       "      <td>7</td>\n",
       "      <td>0</td>\n",
       "      <td>0</td>\n",
       "      <td>0</td>\n",
       "      <td>0</td>\n",
       "      <td>0</td>\n",
       "      <td>0</td>\n",
       "      <td>3</td>\n",
       "      <td>11</td>\n",
       "      <td>1</td>\n",
       "    </tr>\n",
       "    <tr>\n",
       "      <th>1</th>\n",
       "      <td>2174</td>\n",
       "      <td>1954</td>\n",
       "      <td>Graduation</td>\n",
       "      <td>Single</td>\n",
       "      <td>46344.0</td>\n",
       "      <td>1</td>\n",
       "      <td>1</td>\n",
       "      <td>08-03-2014</td>\n",
       "      <td>38</td>\n",
       "      <td>11</td>\n",
       "      <td>...</td>\n",
       "      <td>5</td>\n",
       "      <td>0</td>\n",
       "      <td>0</td>\n",
       "      <td>0</td>\n",
       "      <td>0</td>\n",
       "      <td>0</td>\n",
       "      <td>0</td>\n",
       "      <td>3</td>\n",
       "      <td>11</td>\n",
       "      <td>0</td>\n",
       "    </tr>\n",
       "    <tr>\n",
       "      <th>2</th>\n",
       "      <td>4141</td>\n",
       "      <td>1965</td>\n",
       "      <td>Graduation</td>\n",
       "      <td>Together</td>\n",
       "      <td>71613.0</td>\n",
       "      <td>0</td>\n",
       "      <td>0</td>\n",
       "      <td>21-08-2013</td>\n",
       "      <td>26</td>\n",
       "      <td>426</td>\n",
       "      <td>...</td>\n",
       "      <td>4</td>\n",
       "      <td>0</td>\n",
       "      <td>0</td>\n",
       "      <td>0</td>\n",
       "      <td>0</td>\n",
       "      <td>0</td>\n",
       "      <td>0</td>\n",
       "      <td>3</td>\n",
       "      <td>11</td>\n",
       "      <td>0</td>\n",
       "    </tr>\n",
       "    <tr>\n",
       "      <th>3</th>\n",
       "      <td>6182</td>\n",
       "      <td>1984</td>\n",
       "      <td>Graduation</td>\n",
       "      <td>Together</td>\n",
       "      <td>26646.0</td>\n",
       "      <td>1</td>\n",
       "      <td>0</td>\n",
       "      <td>10-02-2014</td>\n",
       "      <td>26</td>\n",
       "      <td>11</td>\n",
       "      <td>...</td>\n",
       "      <td>6</td>\n",
       "      <td>0</td>\n",
       "      <td>0</td>\n",
       "      <td>0</td>\n",
       "      <td>0</td>\n",
       "      <td>0</td>\n",
       "      <td>0</td>\n",
       "      <td>3</td>\n",
       "      <td>11</td>\n",
       "      <td>0</td>\n",
       "    </tr>\n",
       "    <tr>\n",
       "      <th>4</th>\n",
       "      <td>5324</td>\n",
       "      <td>1981</td>\n",
       "      <td>PhD</td>\n",
       "      <td>Married</td>\n",
       "      <td>58293.0</td>\n",
       "      <td>1</td>\n",
       "      <td>0</td>\n",
       "      <td>19-01-2014</td>\n",
       "      <td>94</td>\n",
       "      <td>173</td>\n",
       "      <td>...</td>\n",
       "      <td>5</td>\n",
       "      <td>0</td>\n",
       "      <td>0</td>\n",
       "      <td>0</td>\n",
       "      <td>0</td>\n",
       "      <td>0</td>\n",
       "      <td>0</td>\n",
       "      <td>3</td>\n",
       "      <td>11</td>\n",
       "      <td>0</td>\n",
       "    </tr>\n",
       "  </tbody>\n",
       "</table>\n",
       "<p>5 rows × 29 columns</p>\n",
       "</div>"
      ],
      "text/plain": [
       "     ID  Year_Birth   Education Marital_Status   Income  Kidhome  Teenhome  \\\n",
       "0  5524        1957  Graduation         Single  58138.0        0         0   \n",
       "1  2174        1954  Graduation         Single  46344.0        1         1   \n",
       "2  4141        1965  Graduation       Together  71613.0        0         0   \n",
       "3  6182        1984  Graduation       Together  26646.0        1         0   \n",
       "4  5324        1981         PhD        Married  58293.0        1         0   \n",
       "\n",
       "  Dt_Customer  Recency  MntWines  ...  NumWebVisitsMonth  AcceptedCmp3  \\\n",
       "0  04-09-2012       58       635  ...                  7             0   \n",
       "1  08-03-2014       38        11  ...                  5             0   \n",
       "2  21-08-2013       26       426  ...                  4             0   \n",
       "3  10-02-2014       26        11  ...                  6             0   \n",
       "4  19-01-2014       94       173  ...                  5             0   \n",
       "\n",
       "   AcceptedCmp4  AcceptedCmp5  AcceptedCmp1  AcceptedCmp2  Complain  \\\n",
       "0             0             0             0             0         0   \n",
       "1             0             0             0             0         0   \n",
       "2             0             0             0             0         0   \n",
       "3             0             0             0             0         0   \n",
       "4             0             0             0             0         0   \n",
       "\n",
       "   Z_CostContact  Z_Revenue  Response  \n",
       "0              3         11         1  \n",
       "1              3         11         0  \n",
       "2              3         11         0  \n",
       "3              3         11         0  \n",
       "4              3         11         0  \n",
       "\n",
       "[5 rows x 29 columns]"
      ]
     },
     "execution_count": 161,
     "metadata": {},
     "output_type": "execute_result"
    }
   ],
   "source": [
    "df = pd.read_csv('marketing_campaign.csv', sep=\"\\t\")\n",
    "df.head()"
   ]
  },
  {
   "cell_type": "code",
   "execution_count": 162,
   "metadata": {},
   "outputs": [
    {
     "data": {
      "text/plain": [
       "Index(['ID', 'Year_Birth', 'Education', 'Marital_Status', 'Income', 'Kidhome',\n",
       "       'Teenhome', 'Dt_Customer', 'Recency', 'MntWines', 'MntFruits',\n",
       "       'MntMeatProducts', 'MntFishProducts', 'MntSweetProducts',\n",
       "       'MntGoldProds', 'NumDealsPurchases', 'NumWebPurchases',\n",
       "       'NumCatalogPurchases', 'NumStorePurchases', 'NumWebVisitsMonth',\n",
       "       'AcceptedCmp3', 'AcceptedCmp4', 'AcceptedCmp5', 'AcceptedCmp1',\n",
       "       'AcceptedCmp2', 'Complain', 'Z_CostContact', 'Z_Revenue', 'Response'],\n",
       "      dtype='object')"
      ]
     },
     "execution_count": 162,
     "metadata": {},
     "output_type": "execute_result"
    }
   ],
   "source": [
    "df.columns"
   ]
  },
  {
   "cell_type": "code",
   "execution_count": 163,
   "metadata": {},
   "outputs": [
    {
     "data": {
      "text/plain": [
       "(2240, 29)"
      ]
     },
     "execution_count": 163,
     "metadata": {},
     "output_type": "execute_result"
    }
   ],
   "source": [
    "df.shape"
   ]
  },
  {
   "cell_type": "code",
   "execution_count": 164,
   "metadata": {},
   "outputs": [
    {
     "data": {
      "text/plain": [
       "ID                      0\n",
       "Year_Birth              0\n",
       "Education               0\n",
       "Marital_Status          0\n",
       "Income                 24\n",
       "Kidhome                 0\n",
       "Teenhome                0\n",
       "Dt_Customer             0\n",
       "Recency                 0\n",
       "MntWines                0\n",
       "MntFruits               0\n",
       "MntMeatProducts         0\n",
       "MntFishProducts         0\n",
       "MntSweetProducts        0\n",
       "MntGoldProds            0\n",
       "NumDealsPurchases       0\n",
       "NumWebPurchases         0\n",
       "NumCatalogPurchases     0\n",
       "NumStorePurchases       0\n",
       "NumWebVisitsMonth       0\n",
       "AcceptedCmp3            0\n",
       "AcceptedCmp4            0\n",
       "AcceptedCmp5            0\n",
       "AcceptedCmp1            0\n",
       "AcceptedCmp2            0\n",
       "Complain                0\n",
       "Z_CostContact           0\n",
       "Z_Revenue               0\n",
       "Response                0\n",
       "dtype: int64"
      ]
     },
     "execution_count": 164,
     "metadata": {},
     "output_type": "execute_result"
    }
   ],
   "source": [
    "df.isnull().sum()"
   ]
  },
  {
   "cell_type": "code",
   "execution_count": 165,
   "metadata": {},
   "outputs": [],
   "source": [
    "income_mean = df.groupby('Education')['Income'].mean()\n",
    "\n",
    "df['Income'] = df['Income'].fillna(df['Education'].map(income_mean))"
   ]
  },
  {
   "cell_type": "code",
   "execution_count": 166,
   "metadata": {},
   "outputs": [
    {
     "data": {
      "text/plain": [
       "0       52720.373656\n",
       "1       52720.373656\n",
       "2       52720.373656\n",
       "3       52720.373656\n",
       "4       56145.313929\n",
       "            ...     \n",
       "2235    52720.373656\n",
       "2236    56145.313929\n",
       "2237    52720.373656\n",
       "2238    52917.534247\n",
       "2239    56145.313929\n",
       "Name: Education, Length: 2240, dtype: float64"
      ]
     },
     "execution_count": 166,
     "metadata": {},
     "output_type": "execute_result"
    }
   ],
   "source": [
    "df['Education'].map(income_mean)"
   ]
  },
  {
   "cell_type": "code",
   "execution_count": 167,
   "metadata": {},
   "outputs": [
    {
     "data": {
      "text/plain": [
       "ID                     0\n",
       "Year_Birth             0\n",
       "Education              0\n",
       "Marital_Status         0\n",
       "Income                 0\n",
       "Kidhome                0\n",
       "Teenhome               0\n",
       "Dt_Customer            0\n",
       "Recency                0\n",
       "MntWines               0\n",
       "MntFruits              0\n",
       "MntMeatProducts        0\n",
       "MntFishProducts        0\n",
       "MntSweetProducts       0\n",
       "MntGoldProds           0\n",
       "NumDealsPurchases      0\n",
       "NumWebPurchases        0\n",
       "NumCatalogPurchases    0\n",
       "NumStorePurchases      0\n",
       "NumWebVisitsMonth      0\n",
       "AcceptedCmp3           0\n",
       "AcceptedCmp4           0\n",
       "AcceptedCmp5           0\n",
       "AcceptedCmp1           0\n",
       "AcceptedCmp2           0\n",
       "Complain               0\n",
       "Z_CostContact          0\n",
       "Z_Revenue              0\n",
       "Response               0\n",
       "dtype: int64"
      ]
     },
     "execution_count": 167,
     "metadata": {},
     "output_type": "execute_result"
    }
   ],
   "source": [
    "df.isnull().sum()"
   ]
  },
  {
   "cell_type": "markdown",
   "metadata": {},
   "source": [
    "#### We will perform feature engineering : "
   ]
  },
  {
   "cell_type": "code",
   "execution_count": 168,
   "metadata": {},
   "outputs": [
    {
     "name": "stdout",
     "output_type": "stream",
     "text": [
      "<class 'pandas.core.frame.DataFrame'>\n",
      "RangeIndex: 2240 entries, 0 to 2239\n",
      "Data columns (total 29 columns):\n",
      " #   Column               Non-Null Count  Dtype  \n",
      "---  ------               --------------  -----  \n",
      " 0   ID                   2240 non-null   int64  \n",
      " 1   Year_Birth           2240 non-null   int64  \n",
      " 2   Education            2240 non-null   object \n",
      " 3   Marital_Status       2240 non-null   object \n",
      " 4   Income               2240 non-null   float64\n",
      " 5   Kidhome              2240 non-null   int64  \n",
      " 6   Teenhome             2240 non-null   int64  \n",
      " 7   Dt_Customer          2240 non-null   object \n",
      " 8   Recency              2240 non-null   int64  \n",
      " 9   MntWines             2240 non-null   int64  \n",
      " 10  MntFruits            2240 non-null   int64  \n",
      " 11  MntMeatProducts      2240 non-null   int64  \n",
      " 12  MntFishProducts      2240 non-null   int64  \n",
      " 13  MntSweetProducts     2240 non-null   int64  \n",
      " 14  MntGoldProds         2240 non-null   int64  \n",
      " 15  NumDealsPurchases    2240 non-null   int64  \n",
      " 16  NumWebPurchases      2240 non-null   int64  \n",
      " 17  NumCatalogPurchases  2240 non-null   int64  \n",
      " 18  NumStorePurchases    2240 non-null   int64  \n",
      " 19  NumWebVisitsMonth    2240 non-null   int64  \n",
      " 20  AcceptedCmp3         2240 non-null   int64  \n",
      " 21  AcceptedCmp4         2240 non-null   int64  \n",
      " 22  AcceptedCmp5         2240 non-null   int64  \n",
      " 23  AcceptedCmp1         2240 non-null   int64  \n",
      " 24  AcceptedCmp2         2240 non-null   int64  \n",
      " 25  Complain             2240 non-null   int64  \n",
      " 26  Z_CostContact        2240 non-null   int64  \n",
      " 27  Z_Revenue            2240 non-null   int64  \n",
      " 28  Response             2240 non-null   int64  \n",
      "dtypes: float64(1), int64(25), object(3)\n",
      "memory usage: 507.6+ KB\n"
     ]
    }
   ],
   "source": [
    "df.info()"
   ]
  },
  {
   "cell_type": "code",
   "execution_count": 169,
   "metadata": {},
   "outputs": [
    {
     "data": {
      "text/plain": [
       "array(['Graduation', 'PhD', 'Master', 'Basic', '2n Cycle'], dtype=object)"
      ]
     },
     "execution_count": 169,
     "metadata": {},
     "output_type": "execute_result"
    }
   ],
   "source": [
    "df['Education'].unique()"
   ]
  },
  {
   "cell_type": "code",
   "execution_count": 170,
   "metadata": {},
   "outputs": [
    {
     "data": {
      "text/plain": [
       "array(['Single', 'Together', 'Married', 'Divorced', 'Widow', 'Alone',\n",
       "       'Absurd', 'YOLO'], dtype=object)"
      ]
     },
     "execution_count": 170,
     "metadata": {},
     "output_type": "execute_result"
    }
   ],
   "source": [
    "df['Marital_Status'].unique()"
   ]
  },
  {
   "cell_type": "code",
   "execution_count": 171,
   "metadata": {},
   "outputs": [
    {
     "data": {
      "text/plain": [
       "Index(['ID', 'Year_Birth', 'Education', 'Marital_Status', 'Income', 'Kidhome',\n",
       "       'Teenhome', 'Dt_Customer', 'Recency', 'MntWines', 'MntFruits',\n",
       "       'MntMeatProducts', 'MntFishProducts', 'MntSweetProducts',\n",
       "       'MntGoldProds', 'NumDealsPurchases', 'NumWebPurchases',\n",
       "       'NumCatalogPurchases', 'NumStorePurchases', 'NumWebVisitsMonth',\n",
       "       'AcceptedCmp3', 'AcceptedCmp4', 'AcceptedCmp5', 'AcceptedCmp1',\n",
       "       'AcceptedCmp2', 'Complain', 'Z_CostContact', 'Z_Revenue', 'Response'],\n",
       "      dtype='object')"
      ]
     },
     "execution_count": 171,
     "metadata": {},
     "output_type": "execute_result"
    }
   ],
   "source": [
    "df.columns"
   ]
  },
  {
   "cell_type": "markdown",
   "metadata": {},
   "source": [
    "we can merge both the number of kids and teens in one column. and the number of purchases in another column "
   ]
  },
  {
   "cell_type": "code",
   "execution_count": 172,
   "metadata": {},
   "outputs": [],
   "source": [
    "from datetime import datetime"
   ]
  },
  {
   "cell_type": "code",
   "execution_count": 173,
   "metadata": {},
   "outputs": [
    {
     "data": {
      "text/plain": [
       "Index(['ID', 'Year_Birth', 'Education', 'Marital_Status', 'Income', 'Kidhome',\n",
       "       'Teenhome', 'Dt_Customer', 'Recency', 'MntWines', 'MntFruits',\n",
       "       'MntMeatProducts', 'MntFishProducts', 'MntSweetProducts',\n",
       "       'MntGoldProds', 'NumDealsPurchases', 'NumWebPurchases',\n",
       "       'NumCatalogPurchases', 'NumStorePurchases', 'NumWebVisitsMonth',\n",
       "       'AcceptedCmp3', 'AcceptedCmp4', 'AcceptedCmp5', 'AcceptedCmp1',\n",
       "       'AcceptedCmp2', 'Complain', 'Z_CostContact', 'Z_Revenue', 'Response'],\n",
       "      dtype='object')"
      ]
     },
     "execution_count": 173,
     "metadata": {},
     "output_type": "execute_result"
    }
   ],
   "source": [
    "df.columns"
   ]
  },
  {
   "cell_type": "code",
   "execution_count": 174,
   "metadata": {},
   "outputs": [],
   "source": [
    "df['children'] = df['Kidhome'] + df['Teenhome']\n",
    "df.drop(columns=['Recency'], inplace=True)\n",
    "df['Dt_Customer'] = pd.to_datetime(df['Dt_Customer'], format = '%d-%m-%Y')\n",
    "max_date = df['Dt_Customer'].max()\n",
    "df['Days_since_enrolment'] = df['Dt_Customer'].apply(lambda x: (max_date - x))\n",
    "df['Age'] = datetime.now().year - df['Year_Birth']\n",
    "\n",
    "\n",
    "df['Total Spending'] = df['MntWines'] + df['MntFruits'] + df['MntMeatProducts'] + df['MntFishProducts'] + df['MntSweetProducts'] + df['MntGoldProds']\n",
    "\n",
    "df['Prob_wines'] = df['MntWines'] / df['Total Spending']\n",
    "df['Prob_fruits'] = df['MntFruits'] / df['Total Spending']\n",
    "df['Prob_meatproducts'] = df['MntMeatProducts'] / df['Total Spending']\n",
    "df['Prob_fishproducts'] = df['MntFishProducts'] / df['Total Spending']\n",
    "df['Prob_sweetproducts'] = df['MntSweetProducts'] / df['Total Spending']\n",
    "df['Prop_goldprods']=df['MntGoldProds'] / df['Total Spending']\n",
    "\n",
    "\n",
    "df['Offers_Responded_To'] = df['AcceptedCmp1'] + df['AcceptedCmp2'] + df['AcceptedCmp3'] + df['AcceptedCmp4'] + df['AcceptedCmp5'] + df['Response']\n",
    "\n",
    "df['Total Purchases'] = df['NumDealsPurchases'] + df['NumWebPurchases'] + df['NumCatalogPurchases'] + df['NumStorePurchases']\n",
    "\n",
    "df.drop(columns=['Z_CostContact', 'Z_Revenue', 'Year_Birth','Teenhome','Response', 'MntWines', 'MntFruits', 'MntMeatProducts', 'MntFishProducts',\n",
    "           'MntSweetProducts', 'MntGoldProds','AcceptedCmp3', 'AcceptedCmp4', 'AcceptedCmp5', 'AcceptedCmp1', 'AcceptedCmp2', 'NumDealsPurchases', 'NumWebPurchases',\n",
    "           'NumCatalogPurchases', 'NumStorePurchases','Year_Birth','Dt_Customer','ID'], inplace=True)\n"
   ]
  },
  {
   "cell_type": "code",
   "execution_count": 175,
   "metadata": {},
   "outputs": [
    {
     "data": {
      "text/html": [
       "<div>\n",
       "<style scoped>\n",
       "    .dataframe tbody tr th:only-of-type {\n",
       "        vertical-align: middle;\n",
       "    }\n",
       "\n",
       "    .dataframe tbody tr th {\n",
       "        vertical-align: top;\n",
       "    }\n",
       "\n",
       "    .dataframe thead th {\n",
       "        text-align: right;\n",
       "    }\n",
       "</style>\n",
       "<table border=\"1\" class=\"dataframe\">\n",
       "  <thead>\n",
       "    <tr style=\"text-align: right;\">\n",
       "      <th></th>\n",
       "      <th>Income</th>\n",
       "      <th>Kidhome</th>\n",
       "      <th>NumWebVisitsMonth</th>\n",
       "      <th>Complain</th>\n",
       "      <th>children</th>\n",
       "      <th>Days_since_enrolment</th>\n",
       "      <th>Age</th>\n",
       "      <th>Total Spending</th>\n",
       "      <th>Prob_wines</th>\n",
       "      <th>Prob_fruits</th>\n",
       "      <th>Prob_meatproducts</th>\n",
       "      <th>Prob_fishproducts</th>\n",
       "      <th>Prob_sweetproducts</th>\n",
       "      <th>Prop_goldprods</th>\n",
       "      <th>Offers_Responded_To</th>\n",
       "      <th>Total Purchases</th>\n",
       "    </tr>\n",
       "  </thead>\n",
       "  <tbody>\n",
       "    <tr>\n",
       "      <th>count</th>\n",
       "      <td>2240.000000</td>\n",
       "      <td>2240.000000</td>\n",
       "      <td>2240.000000</td>\n",
       "      <td>2240.000000</td>\n",
       "      <td>2240.000000</td>\n",
       "      <td>2240</td>\n",
       "      <td>2240.000000</td>\n",
       "      <td>2240.000000</td>\n",
       "      <td>2240.000000</td>\n",
       "      <td>2240.000000</td>\n",
       "      <td>2240.000000</td>\n",
       "      <td>2240.000000</td>\n",
       "      <td>2240.000000</td>\n",
       "      <td>2240.000000</td>\n",
       "      <td>2240.000000</td>\n",
       "      <td>2240.000000</td>\n",
       "    </tr>\n",
       "    <tr>\n",
       "      <th>mean</th>\n",
       "      <td>52253.592375</td>\n",
       "      <td>0.444196</td>\n",
       "      <td>5.316518</td>\n",
       "      <td>0.009375</td>\n",
       "      <td>0.950446</td>\n",
       "      <td>353 days 13:58:17.142857144</td>\n",
       "      <td>54.194196</td>\n",
       "      <td>605.798214</td>\n",
       "      <td>0.458481</td>\n",
       "      <td>0.049505</td>\n",
       "      <td>0.249508</td>\n",
       "      <td>0.071532</td>\n",
       "      <td>0.050777</td>\n",
       "      <td>0.120196</td>\n",
       "      <td>0.446875</td>\n",
       "      <td>14.862054</td>\n",
       "    </tr>\n",
       "    <tr>\n",
       "      <th>std</th>\n",
       "      <td>25039.085601</td>\n",
       "      <td>0.538398</td>\n",
       "      <td>2.426645</td>\n",
       "      <td>0.096391</td>\n",
       "      <td>0.751803</td>\n",
       "      <td>202 days 02:56:25.066913892</td>\n",
       "      <td>11.984069</td>\n",
       "      <td>602.249288</td>\n",
       "      <td>0.228411</td>\n",
       "      <td>0.055867</td>\n",
       "      <td>0.126633</td>\n",
       "      <td>0.077909</td>\n",
       "      <td>0.061184</td>\n",
       "      <td>0.108988</td>\n",
       "      <td>0.890543</td>\n",
       "      <td>7.677173</td>\n",
       "    </tr>\n",
       "    <tr>\n",
       "      <th>min</th>\n",
       "      <td>1730.000000</td>\n",
       "      <td>0.000000</td>\n",
       "      <td>0.000000</td>\n",
       "      <td>0.000000</td>\n",
       "      <td>0.000000</td>\n",
       "      <td>0 days 00:00:00</td>\n",
       "      <td>27.000000</td>\n",
       "      <td>5.000000</td>\n",
       "      <td>0.000000</td>\n",
       "      <td>0.000000</td>\n",
       "      <td>0.000000</td>\n",
       "      <td>0.000000</td>\n",
       "      <td>0.000000</td>\n",
       "      <td>0.000000</td>\n",
       "      <td>0.000000</td>\n",
       "      <td>0.000000</td>\n",
       "    </tr>\n",
       "    <tr>\n",
       "      <th>25%</th>\n",
       "      <td>35538.750000</td>\n",
       "      <td>0.000000</td>\n",
       "      <td>3.000000</td>\n",
       "      <td>0.000000</td>\n",
       "      <td>0.000000</td>\n",
       "      <td>180 days 18:00:00</td>\n",
       "      <td>46.000000</td>\n",
       "      <td>68.750000</td>\n",
       "      <td>0.289506</td>\n",
       "      <td>0.008924</td>\n",
       "      <td>0.156250</td>\n",
       "      <td>0.012571</td>\n",
       "      <td>0.008621</td>\n",
       "      <td>0.038095</td>\n",
       "      <td>0.000000</td>\n",
       "      <td>8.000000</td>\n",
       "    </tr>\n",
       "    <tr>\n",
       "      <th>50%</th>\n",
       "      <td>51609.500000</td>\n",
       "      <td>0.000000</td>\n",
       "      <td>6.000000</td>\n",
       "      <td>0.000000</td>\n",
       "      <td>1.000000</td>\n",
       "      <td>355 days 12:00:00</td>\n",
       "      <td>53.000000</td>\n",
       "      <td>396.000000</td>\n",
       "      <td>0.457482</td>\n",
       "      <td>0.029840</td>\n",
       "      <td>0.233447</td>\n",
       "      <td>0.048193</td>\n",
       "      <td>0.033333</td>\n",
       "      <td>0.086294</td>\n",
       "      <td>0.000000</td>\n",
       "      <td>15.000000</td>\n",
       "    </tr>\n",
       "    <tr>\n",
       "      <th>75%</th>\n",
       "      <td>68289.750000</td>\n",
       "      <td>1.000000</td>\n",
       "      <td>7.000000</td>\n",
       "      <td>0.000000</td>\n",
       "      <td>1.000000</td>\n",
       "      <td>529 days 00:00:00</td>\n",
       "      <td>64.000000</td>\n",
       "      <td>1045.500000</td>\n",
       "      <td>0.639143</td>\n",
       "      <td>0.070237</td>\n",
       "      <td>0.328227</td>\n",
       "      <td>0.104703</td>\n",
       "      <td>0.070411</td>\n",
       "      <td>0.169768</td>\n",
       "      <td>1.000000</td>\n",
       "      <td>21.000000</td>\n",
       "    </tr>\n",
       "    <tr>\n",
       "      <th>max</th>\n",
       "      <td>666666.000000</td>\n",
       "      <td>2.000000</td>\n",
       "      <td>20.000000</td>\n",
       "      <td>1.000000</td>\n",
       "      <td>3.000000</td>\n",
       "      <td>699 days 00:00:00</td>\n",
       "      <td>130.000000</td>\n",
       "      <td>2525.000000</td>\n",
       "      <td>0.963303</td>\n",
       "      <td>0.445545</td>\n",
       "      <td>0.997110</td>\n",
       "      <td>0.590909</td>\n",
       "      <td>0.945848</td>\n",
       "      <td>0.894150</td>\n",
       "      <td>5.000000</td>\n",
       "      <td>44.000000</td>\n",
       "    </tr>\n",
       "  </tbody>\n",
       "</table>\n",
       "</div>"
      ],
      "text/plain": [
       "              Income      Kidhome  NumWebVisitsMonth     Complain  \\\n",
       "count    2240.000000  2240.000000        2240.000000  2240.000000   \n",
       "mean    52253.592375     0.444196           5.316518     0.009375   \n",
       "std     25039.085601     0.538398           2.426645     0.096391   \n",
       "min      1730.000000     0.000000           0.000000     0.000000   \n",
       "25%     35538.750000     0.000000           3.000000     0.000000   \n",
       "50%     51609.500000     0.000000           6.000000     0.000000   \n",
       "75%     68289.750000     1.000000           7.000000     0.000000   \n",
       "max    666666.000000     2.000000          20.000000     1.000000   \n",
       "\n",
       "          children         Days_since_enrolment          Age  Total Spending  \\\n",
       "count  2240.000000                         2240  2240.000000     2240.000000   \n",
       "mean      0.950446  353 days 13:58:17.142857144    54.194196      605.798214   \n",
       "std       0.751803  202 days 02:56:25.066913892    11.984069      602.249288   \n",
       "min       0.000000              0 days 00:00:00    27.000000        5.000000   \n",
       "25%       0.000000            180 days 18:00:00    46.000000       68.750000   \n",
       "50%       1.000000            355 days 12:00:00    53.000000      396.000000   \n",
       "75%       1.000000            529 days 00:00:00    64.000000     1045.500000   \n",
       "max       3.000000            699 days 00:00:00   130.000000     2525.000000   \n",
       "\n",
       "        Prob_wines  Prob_fruits  Prob_meatproducts  Prob_fishproducts  \\\n",
       "count  2240.000000  2240.000000        2240.000000        2240.000000   \n",
       "mean      0.458481     0.049505           0.249508           0.071532   \n",
       "std       0.228411     0.055867           0.126633           0.077909   \n",
       "min       0.000000     0.000000           0.000000           0.000000   \n",
       "25%       0.289506     0.008924           0.156250           0.012571   \n",
       "50%       0.457482     0.029840           0.233447           0.048193   \n",
       "75%       0.639143     0.070237           0.328227           0.104703   \n",
       "max       0.963303     0.445545           0.997110           0.590909   \n",
       "\n",
       "       Prob_sweetproducts  Prop_goldprods  Offers_Responded_To  \\\n",
       "count         2240.000000     2240.000000          2240.000000   \n",
       "mean             0.050777        0.120196             0.446875   \n",
       "std              0.061184        0.108988             0.890543   \n",
       "min              0.000000        0.000000             0.000000   \n",
       "25%              0.008621        0.038095             0.000000   \n",
       "50%              0.033333        0.086294             0.000000   \n",
       "75%              0.070411        0.169768             1.000000   \n",
       "max              0.945848        0.894150             5.000000   \n",
       "\n",
       "       Total Purchases  \n",
       "count      2240.000000  \n",
       "mean         14.862054  \n",
       "std           7.677173  \n",
       "min           0.000000  \n",
       "25%           8.000000  \n",
       "50%          15.000000  \n",
       "75%          21.000000  \n",
       "max          44.000000  "
      ]
     },
     "execution_count": 175,
     "metadata": {},
     "output_type": "execute_result"
    }
   ],
   "source": [
    "df.describe()"
   ]
  },
  {
   "cell_type": "markdown",
   "metadata": {},
   "source": [
    "we will remove outliers such as age that has 130 years as a maximum and we will remove outliers from income."
   ]
  },
  {
   "cell_type": "code",
   "execution_count": 176,
   "metadata": {},
   "outputs": [],
   "source": [
    "\n",
    "columns = ['Income', 'Age','Total Purchases']\n",
    "for column in columns:\n",
    "  Q1 = df[column].quantile(0.1)\n",
    "  Q3 = df[column].quantile(0.9)\n",
    "  IQR = Q3 - Q1 \n",
    "  lower_bound = Q1 - 1.5 * IQR\n",
    "  upper_bound = Q3 + 1.5 * IQR\n",
    "  df = df[(df[column] >= lower_bound) & (df[column] <= upper_bound) ]\n"
   ]
  },
  {
   "cell_type": "code",
   "execution_count": 177,
   "metadata": {},
   "outputs": [
    {
     "data": {
      "text/plain": [
       "(2236, 18)"
      ]
     },
     "execution_count": 177,
     "metadata": {},
     "output_type": "execute_result"
    }
   ],
   "source": [
    "df.shape"
   ]
  },
  {
   "cell_type": "code",
   "execution_count": 178,
   "metadata": {},
   "outputs": [
    {
     "data": {
      "text/html": [
       "<div>\n",
       "<style scoped>\n",
       "    .dataframe tbody tr th:only-of-type {\n",
       "        vertical-align: middle;\n",
       "    }\n",
       "\n",
       "    .dataframe tbody tr th {\n",
       "        vertical-align: top;\n",
       "    }\n",
       "\n",
       "    .dataframe thead th {\n",
       "        text-align: right;\n",
       "    }\n",
       "</style>\n",
       "<table border=\"1\" class=\"dataframe\">\n",
       "  <thead>\n",
       "    <tr style=\"text-align: right;\">\n",
       "      <th></th>\n",
       "      <th>Income</th>\n",
       "      <th>Kidhome</th>\n",
       "      <th>NumWebVisitsMonth</th>\n",
       "      <th>Complain</th>\n",
       "      <th>children</th>\n",
       "      <th>Days_since_enrolment</th>\n",
       "      <th>Age</th>\n",
       "      <th>Total Spending</th>\n",
       "      <th>Prob_wines</th>\n",
       "      <th>Prob_fruits</th>\n",
       "      <th>Prob_meatproducts</th>\n",
       "      <th>Prob_fishproducts</th>\n",
       "      <th>Prob_sweetproducts</th>\n",
       "      <th>Prop_goldprods</th>\n",
       "      <th>Offers_Responded_To</th>\n",
       "      <th>Total Purchases</th>\n",
       "    </tr>\n",
       "  </thead>\n",
       "  <tbody>\n",
       "    <tr>\n",
       "      <th>count</th>\n",
       "      <td>2236.000000</td>\n",
       "      <td>2236.000000</td>\n",
       "      <td>2236.000000</td>\n",
       "      <td>2236.000000</td>\n",
       "      <td>2236.000000</td>\n",
       "      <td>2236</td>\n",
       "      <td>2236.000000</td>\n",
       "      <td>2236.000000</td>\n",
       "      <td>2236.000000</td>\n",
       "      <td>2236.000000</td>\n",
       "      <td>2236.000000</td>\n",
       "      <td>2236.000000</td>\n",
       "      <td>2236.000000</td>\n",
       "      <td>2236.000000</td>\n",
       "      <td>2236.000000</td>\n",
       "      <td>2236.000000</td>\n",
       "    </tr>\n",
       "    <tr>\n",
       "      <th>mean</th>\n",
       "      <td>51968.258909</td>\n",
       "      <td>0.444097</td>\n",
       "      <td>5.318873</td>\n",
       "      <td>0.008945</td>\n",
       "      <td>0.950805</td>\n",
       "      <td>353 days 18:33:29.302325580</td>\n",
       "      <td>54.101968</td>\n",
       "      <td>605.986583</td>\n",
       "      <td>0.458789</td>\n",
       "      <td>0.049416</td>\n",
       "      <td>0.249532</td>\n",
       "      <td>0.071387</td>\n",
       "      <td>0.050818</td>\n",
       "      <td>0.120058</td>\n",
       "      <td>0.447227</td>\n",
       "      <td>14.872540</td>\n",
       "    </tr>\n",
       "    <tr>\n",
       "      <th>std</th>\n",
       "      <td>21412.998830</td>\n",
       "      <td>0.538459</td>\n",
       "      <td>2.426886</td>\n",
       "      <td>0.094173</td>\n",
       "      <td>0.752204</td>\n",
       "      <td>202 days 04:21:26.839418520</td>\n",
       "      <td>11.703281</td>\n",
       "      <td>601.865156</td>\n",
       "      <td>0.228457</td>\n",
       "      <td>0.055772</td>\n",
       "      <td>0.126709</td>\n",
       "      <td>0.077790</td>\n",
       "      <td>0.061224</td>\n",
       "      <td>0.108929</td>\n",
       "      <td>0.891113</td>\n",
       "      <td>7.677874</td>\n",
       "    </tr>\n",
       "    <tr>\n",
       "      <th>min</th>\n",
       "      <td>1730.000000</td>\n",
       "      <td>0.000000</td>\n",
       "      <td>0.000000</td>\n",
       "      <td>0.000000</td>\n",
       "      <td>0.000000</td>\n",
       "      <td>0 days 00:00:00</td>\n",
       "      <td>27.000000</td>\n",
       "      <td>5.000000</td>\n",
       "      <td>0.000000</td>\n",
       "      <td>0.000000</td>\n",
       "      <td>0.000000</td>\n",
       "      <td>0.000000</td>\n",
       "      <td>0.000000</td>\n",
       "      <td>0.000000</td>\n",
       "      <td>0.000000</td>\n",
       "      <td>0.000000</td>\n",
       "    </tr>\n",
       "    <tr>\n",
       "      <th>25%</th>\n",
       "      <td>35502.500000</td>\n",
       "      <td>0.000000</td>\n",
       "      <td>3.000000</td>\n",
       "      <td>0.000000</td>\n",
       "      <td>0.000000</td>\n",
       "      <td>180 days 18:00:00</td>\n",
       "      <td>46.000000</td>\n",
       "      <td>69.000000</td>\n",
       "      <td>0.290067</td>\n",
       "      <td>0.008924</td>\n",
       "      <td>0.156250</td>\n",
       "      <td>0.012560</td>\n",
       "      <td>0.008621</td>\n",
       "      <td>0.038081</td>\n",
       "      <td>0.000000</td>\n",
       "      <td>8.000000</td>\n",
       "    </tr>\n",
       "    <tr>\n",
       "      <th>50%</th>\n",
       "      <td>51566.000000</td>\n",
       "      <td>0.000000</td>\n",
       "      <td>6.000000</td>\n",
       "      <td>0.000000</td>\n",
       "      <td>1.000000</td>\n",
       "      <td>356 days 00:00:00</td>\n",
       "      <td>53.000000</td>\n",
       "      <td>396.500000</td>\n",
       "      <td>0.457822</td>\n",
       "      <td>0.029774</td>\n",
       "      <td>0.233447</td>\n",
       "      <td>0.048158</td>\n",
       "      <td>0.033333</td>\n",
       "      <td>0.085714</td>\n",
       "      <td>0.000000</td>\n",
       "      <td>15.000000</td>\n",
       "    </tr>\n",
       "    <tr>\n",
       "      <th>75%</th>\n",
       "      <td>68275.750000</td>\n",
       "      <td>1.000000</td>\n",
       "      <td>7.000000</td>\n",
       "      <td>0.000000</td>\n",
       "      <td>1.000000</td>\n",
       "      <td>529 days 00:00:00</td>\n",
       "      <td>64.000000</td>\n",
       "      <td>1045.500000</td>\n",
       "      <td>0.639765</td>\n",
       "      <td>0.070080</td>\n",
       "      <td>0.328441</td>\n",
       "      <td>0.103809</td>\n",
       "      <td>0.070719</td>\n",
       "      <td>0.169477</td>\n",
       "      <td>1.000000</td>\n",
       "      <td>21.000000</td>\n",
       "    </tr>\n",
       "    <tr>\n",
       "      <th>max</th>\n",
       "      <td>162397.000000</td>\n",
       "      <td>2.000000</td>\n",
       "      <td>20.000000</td>\n",
       "      <td>1.000000</td>\n",
       "      <td>3.000000</td>\n",
       "      <td>699 days 00:00:00</td>\n",
       "      <td>83.000000</td>\n",
       "      <td>2525.000000</td>\n",
       "      <td>0.963303</td>\n",
       "      <td>0.445545</td>\n",
       "      <td>0.997110</td>\n",
       "      <td>0.590909</td>\n",
       "      <td>0.945848</td>\n",
       "      <td>0.894150</td>\n",
       "      <td>5.000000</td>\n",
       "      <td>44.000000</td>\n",
       "    </tr>\n",
       "  </tbody>\n",
       "</table>\n",
       "</div>"
      ],
      "text/plain": [
       "              Income      Kidhome  NumWebVisitsMonth     Complain  \\\n",
       "count    2236.000000  2236.000000        2236.000000  2236.000000   \n",
       "mean    51968.258909     0.444097           5.318873     0.008945   \n",
       "std     21412.998830     0.538459           2.426886     0.094173   \n",
       "min      1730.000000     0.000000           0.000000     0.000000   \n",
       "25%     35502.500000     0.000000           3.000000     0.000000   \n",
       "50%     51566.000000     0.000000           6.000000     0.000000   \n",
       "75%     68275.750000     1.000000           7.000000     0.000000   \n",
       "max    162397.000000     2.000000          20.000000     1.000000   \n",
       "\n",
       "          children         Days_since_enrolment          Age  Total Spending  \\\n",
       "count  2236.000000                         2236  2236.000000     2236.000000   \n",
       "mean      0.950805  353 days 18:33:29.302325580    54.101968      605.986583   \n",
       "std       0.752204  202 days 04:21:26.839418520    11.703281      601.865156   \n",
       "min       0.000000              0 days 00:00:00    27.000000        5.000000   \n",
       "25%       0.000000            180 days 18:00:00    46.000000       69.000000   \n",
       "50%       1.000000            356 days 00:00:00    53.000000      396.500000   \n",
       "75%       1.000000            529 days 00:00:00    64.000000     1045.500000   \n",
       "max       3.000000            699 days 00:00:00    83.000000     2525.000000   \n",
       "\n",
       "        Prob_wines  Prob_fruits  Prob_meatproducts  Prob_fishproducts  \\\n",
       "count  2236.000000  2236.000000        2236.000000        2236.000000   \n",
       "mean      0.458789     0.049416           0.249532           0.071387   \n",
       "std       0.228457     0.055772           0.126709           0.077790   \n",
       "min       0.000000     0.000000           0.000000           0.000000   \n",
       "25%       0.290067     0.008924           0.156250           0.012560   \n",
       "50%       0.457822     0.029774           0.233447           0.048158   \n",
       "75%       0.639765     0.070080           0.328441           0.103809   \n",
       "max       0.963303     0.445545           0.997110           0.590909   \n",
       "\n",
       "       Prob_sweetproducts  Prop_goldprods  Offers_Responded_To  \\\n",
       "count         2236.000000     2236.000000          2236.000000   \n",
       "mean             0.050818        0.120058             0.447227   \n",
       "std              0.061224        0.108929             0.891113   \n",
       "min              0.000000        0.000000             0.000000   \n",
       "25%              0.008621        0.038081             0.000000   \n",
       "50%              0.033333        0.085714             0.000000   \n",
       "75%              0.070719        0.169477             1.000000   \n",
       "max              0.945848        0.894150             5.000000   \n",
       "\n",
       "       Total Purchases  \n",
       "count      2236.000000  \n",
       "mean         14.872540  \n",
       "std           7.677874  \n",
       "min           0.000000  \n",
       "25%           8.000000  \n",
       "50%          15.000000  \n",
       "75%          21.000000  \n",
       "max          44.000000  "
      ]
     },
     "execution_count": 178,
     "metadata": {},
     "output_type": "execute_result"
    }
   ],
   "source": [
    "df.describe()"
   ]
  },
  {
   "cell_type": "code",
   "execution_count": 179,
   "metadata": {},
   "outputs": [
    {
     "data": {
      "text/html": [
       "<div>\n",
       "<style scoped>\n",
       "    .dataframe tbody tr th:only-of-type {\n",
       "        vertical-align: middle;\n",
       "    }\n",
       "\n",
       "    .dataframe tbody tr th {\n",
       "        vertical-align: top;\n",
       "    }\n",
       "\n",
       "    .dataframe thead th {\n",
       "        text-align: right;\n",
       "    }\n",
       "</style>\n",
       "<table border=\"1\" class=\"dataframe\">\n",
       "  <thead>\n",
       "    <tr style=\"text-align: right;\">\n",
       "      <th></th>\n",
       "      <th>Education</th>\n",
       "      <th>Marital_Status</th>\n",
       "      <th>Income</th>\n",
       "      <th>Kidhome</th>\n",
       "      <th>NumWebVisitsMonth</th>\n",
       "      <th>Complain</th>\n",
       "      <th>children</th>\n",
       "      <th>Days_since_enrolment</th>\n",
       "      <th>Age</th>\n",
       "      <th>Total Spending</th>\n",
       "      <th>Prob_wines</th>\n",
       "      <th>Prob_fruits</th>\n",
       "      <th>Prob_meatproducts</th>\n",
       "      <th>Prob_fishproducts</th>\n",
       "      <th>Prob_sweetproducts</th>\n",
       "      <th>Prop_goldprods</th>\n",
       "      <th>Offers_Responded_To</th>\n",
       "      <th>Total Purchases</th>\n",
       "    </tr>\n",
       "  </thead>\n",
       "  <tbody>\n",
       "    <tr>\n",
       "      <th>0</th>\n",
       "      <td>Graduation</td>\n",
       "      <td>Single</td>\n",
       "      <td>58138.0</td>\n",
       "      <td>0</td>\n",
       "      <td>7</td>\n",
       "      <td>0</td>\n",
       "      <td>0</td>\n",
       "      <td>663 days</td>\n",
       "      <td>66</td>\n",
       "      <td>1617</td>\n",
       "      <td>0.392703</td>\n",
       "      <td>0.054422</td>\n",
       "      <td>0.337662</td>\n",
       "      <td>0.106370</td>\n",
       "      <td>0.054422</td>\n",
       "      <td>0.054422</td>\n",
       "      <td>1</td>\n",
       "      <td>25</td>\n",
       "    </tr>\n",
       "    <tr>\n",
       "      <th>1</th>\n",
       "      <td>Graduation</td>\n",
       "      <td>Single</td>\n",
       "      <td>46344.0</td>\n",
       "      <td>1</td>\n",
       "      <td>5</td>\n",
       "      <td>0</td>\n",
       "      <td>2</td>\n",
       "      <td>113 days</td>\n",
       "      <td>69</td>\n",
       "      <td>27</td>\n",
       "      <td>0.407407</td>\n",
       "      <td>0.037037</td>\n",
       "      <td>0.222222</td>\n",
       "      <td>0.074074</td>\n",
       "      <td>0.037037</td>\n",
       "      <td>0.222222</td>\n",
       "      <td>0</td>\n",
       "      <td>6</td>\n",
       "    </tr>\n",
       "    <tr>\n",
       "      <th>2</th>\n",
       "      <td>Graduation</td>\n",
       "      <td>Together</td>\n",
       "      <td>71613.0</td>\n",
       "      <td>0</td>\n",
       "      <td>4</td>\n",
       "      <td>0</td>\n",
       "      <td>0</td>\n",
       "      <td>312 days</td>\n",
       "      <td>58</td>\n",
       "      <td>776</td>\n",
       "      <td>0.548969</td>\n",
       "      <td>0.063144</td>\n",
       "      <td>0.163660</td>\n",
       "      <td>0.143041</td>\n",
       "      <td>0.027062</td>\n",
       "      <td>0.054124</td>\n",
       "      <td>0</td>\n",
       "      <td>21</td>\n",
       "    </tr>\n",
       "    <tr>\n",
       "      <th>3</th>\n",
       "      <td>Graduation</td>\n",
       "      <td>Together</td>\n",
       "      <td>26646.0</td>\n",
       "      <td>1</td>\n",
       "      <td>6</td>\n",
       "      <td>0</td>\n",
       "      <td>1</td>\n",
       "      <td>139 days</td>\n",
       "      <td>39</td>\n",
       "      <td>53</td>\n",
       "      <td>0.207547</td>\n",
       "      <td>0.075472</td>\n",
       "      <td>0.377358</td>\n",
       "      <td>0.188679</td>\n",
       "      <td>0.056604</td>\n",
       "      <td>0.094340</td>\n",
       "      <td>0</td>\n",
       "      <td>8</td>\n",
       "    </tr>\n",
       "    <tr>\n",
       "      <th>4</th>\n",
       "      <td>PhD</td>\n",
       "      <td>Married</td>\n",
       "      <td>58293.0</td>\n",
       "      <td>1</td>\n",
       "      <td>5</td>\n",
       "      <td>0</td>\n",
       "      <td>1</td>\n",
       "      <td>161 days</td>\n",
       "      <td>42</td>\n",
       "      <td>422</td>\n",
       "      <td>0.409953</td>\n",
       "      <td>0.101896</td>\n",
       "      <td>0.279621</td>\n",
       "      <td>0.109005</td>\n",
       "      <td>0.063981</td>\n",
       "      <td>0.035545</td>\n",
       "      <td>0</td>\n",
       "      <td>19</td>\n",
       "    </tr>\n",
       "  </tbody>\n",
       "</table>\n",
       "</div>"
      ],
      "text/plain": [
       "    Education Marital_Status   Income  Kidhome  NumWebVisitsMonth  Complain  \\\n",
       "0  Graduation         Single  58138.0        0                  7         0   \n",
       "1  Graduation         Single  46344.0        1                  5         0   \n",
       "2  Graduation       Together  71613.0        0                  4         0   \n",
       "3  Graduation       Together  26646.0        1                  6         0   \n",
       "4         PhD        Married  58293.0        1                  5         0   \n",
       "\n",
       "   children Days_since_enrolment  Age  Total Spending  Prob_wines  \\\n",
       "0         0             663 days   66            1617    0.392703   \n",
       "1         2             113 days   69              27    0.407407   \n",
       "2         0             312 days   58             776    0.548969   \n",
       "3         1             139 days   39              53    0.207547   \n",
       "4         1             161 days   42             422    0.409953   \n",
       "\n",
       "   Prob_fruits  Prob_meatproducts  Prob_fishproducts  Prob_sweetproducts  \\\n",
       "0     0.054422           0.337662           0.106370            0.054422   \n",
       "1     0.037037           0.222222           0.074074            0.037037   \n",
       "2     0.063144           0.163660           0.143041            0.027062   \n",
       "3     0.075472           0.377358           0.188679            0.056604   \n",
       "4     0.101896           0.279621           0.109005            0.063981   \n",
       "\n",
       "   Prop_goldprods  Offers_Responded_To  Total Purchases  \n",
       "0        0.054422                    1               25  \n",
       "1        0.222222                    0                6  \n",
       "2        0.054124                    0               21  \n",
       "3        0.094340                    0                8  \n",
       "4        0.035545                    0               19  "
      ]
     },
     "execution_count": 179,
     "metadata": {},
     "output_type": "execute_result"
    }
   ],
   "source": [
    "df.head()"
   ]
  },
  {
   "cell_type": "code",
   "execution_count": 180,
   "metadata": {},
   "outputs": [
    {
     "data": {
      "text/plain": [
       "(2236, 18)"
      ]
     },
     "execution_count": 180,
     "metadata": {},
     "output_type": "execute_result"
    }
   ],
   "source": [
    "df.shape"
   ]
  },
  {
   "cell_type": "markdown",
   "metadata": {},
   "source": [
    "Making age column into categories : "
   ]
  },
  {
   "cell_type": "code",
   "execution_count": 181,
   "metadata": {},
   "outputs": [],
   "source": [
    "bins = list(range(0, 100, 10))\n",
    "\n",
    "labels = ['0-10','11-20','21-30','31,40','41-50', '51-60', '61-70', '71-80', '81-90']\n",
    "\n",
    "df['Age_group'] = pd.cut(df['Age'], bins, labels=labels)"
   ]
  },
  {
   "cell_type": "code",
   "execution_count": 182,
   "metadata": {},
   "outputs": [
    {
     "data": {
      "text/html": [
       "<div>\n",
       "<style scoped>\n",
       "    .dataframe tbody tr th:only-of-type {\n",
       "        vertical-align: middle;\n",
       "    }\n",
       "\n",
       "    .dataframe tbody tr th {\n",
       "        vertical-align: top;\n",
       "    }\n",
       "\n",
       "    .dataframe thead th {\n",
       "        text-align: right;\n",
       "    }\n",
       "</style>\n",
       "<table border=\"1\" class=\"dataframe\">\n",
       "  <thead>\n",
       "    <tr style=\"text-align: right;\">\n",
       "      <th></th>\n",
       "      <th>Education</th>\n",
       "      <th>Marital_Status</th>\n",
       "      <th>Income</th>\n",
       "      <th>Kidhome</th>\n",
       "      <th>NumWebVisitsMonth</th>\n",
       "      <th>Complain</th>\n",
       "      <th>children</th>\n",
       "      <th>Days_since_enrolment</th>\n",
       "      <th>Age</th>\n",
       "      <th>Total Spending</th>\n",
       "      <th>Prob_wines</th>\n",
       "      <th>Prob_fruits</th>\n",
       "      <th>Prob_meatproducts</th>\n",
       "      <th>Prob_fishproducts</th>\n",
       "      <th>Prob_sweetproducts</th>\n",
       "      <th>Prop_goldprods</th>\n",
       "      <th>Offers_Responded_To</th>\n",
       "      <th>Total Purchases</th>\n",
       "      <th>Age_group</th>\n",
       "    </tr>\n",
       "  </thead>\n",
       "  <tbody>\n",
       "    <tr>\n",
       "      <th>0</th>\n",
       "      <td>Graduation</td>\n",
       "      <td>Single</td>\n",
       "      <td>58138.0</td>\n",
       "      <td>0</td>\n",
       "      <td>7</td>\n",
       "      <td>0</td>\n",
       "      <td>0</td>\n",
       "      <td>663 days</td>\n",
       "      <td>66</td>\n",
       "      <td>1617</td>\n",
       "      <td>0.392703</td>\n",
       "      <td>0.054422</td>\n",
       "      <td>0.337662</td>\n",
       "      <td>0.106370</td>\n",
       "      <td>0.054422</td>\n",
       "      <td>0.054422</td>\n",
       "      <td>1</td>\n",
       "      <td>25</td>\n",
       "      <td>61-70</td>\n",
       "    </tr>\n",
       "    <tr>\n",
       "      <th>1</th>\n",
       "      <td>Graduation</td>\n",
       "      <td>Single</td>\n",
       "      <td>46344.0</td>\n",
       "      <td>1</td>\n",
       "      <td>5</td>\n",
       "      <td>0</td>\n",
       "      <td>2</td>\n",
       "      <td>113 days</td>\n",
       "      <td>69</td>\n",
       "      <td>27</td>\n",
       "      <td>0.407407</td>\n",
       "      <td>0.037037</td>\n",
       "      <td>0.222222</td>\n",
       "      <td>0.074074</td>\n",
       "      <td>0.037037</td>\n",
       "      <td>0.222222</td>\n",
       "      <td>0</td>\n",
       "      <td>6</td>\n",
       "      <td>61-70</td>\n",
       "    </tr>\n",
       "    <tr>\n",
       "      <th>2</th>\n",
       "      <td>Graduation</td>\n",
       "      <td>Together</td>\n",
       "      <td>71613.0</td>\n",
       "      <td>0</td>\n",
       "      <td>4</td>\n",
       "      <td>0</td>\n",
       "      <td>0</td>\n",
       "      <td>312 days</td>\n",
       "      <td>58</td>\n",
       "      <td>776</td>\n",
       "      <td>0.548969</td>\n",
       "      <td>0.063144</td>\n",
       "      <td>0.163660</td>\n",
       "      <td>0.143041</td>\n",
       "      <td>0.027062</td>\n",
       "      <td>0.054124</td>\n",
       "      <td>0</td>\n",
       "      <td>21</td>\n",
       "      <td>51-60</td>\n",
       "    </tr>\n",
       "    <tr>\n",
       "      <th>3</th>\n",
       "      <td>Graduation</td>\n",
       "      <td>Together</td>\n",
       "      <td>26646.0</td>\n",
       "      <td>1</td>\n",
       "      <td>6</td>\n",
       "      <td>0</td>\n",
       "      <td>1</td>\n",
       "      <td>139 days</td>\n",
       "      <td>39</td>\n",
       "      <td>53</td>\n",
       "      <td>0.207547</td>\n",
       "      <td>0.075472</td>\n",
       "      <td>0.377358</td>\n",
       "      <td>0.188679</td>\n",
       "      <td>0.056604</td>\n",
       "      <td>0.094340</td>\n",
       "      <td>0</td>\n",
       "      <td>8</td>\n",
       "      <td>31,40</td>\n",
       "    </tr>\n",
       "    <tr>\n",
       "      <th>4</th>\n",
       "      <td>PhD</td>\n",
       "      <td>Married</td>\n",
       "      <td>58293.0</td>\n",
       "      <td>1</td>\n",
       "      <td>5</td>\n",
       "      <td>0</td>\n",
       "      <td>1</td>\n",
       "      <td>161 days</td>\n",
       "      <td>42</td>\n",
       "      <td>422</td>\n",
       "      <td>0.409953</td>\n",
       "      <td>0.101896</td>\n",
       "      <td>0.279621</td>\n",
       "      <td>0.109005</td>\n",
       "      <td>0.063981</td>\n",
       "      <td>0.035545</td>\n",
       "      <td>0</td>\n",
       "      <td>19</td>\n",
       "      <td>41-50</td>\n",
       "    </tr>\n",
       "  </tbody>\n",
       "</table>\n",
       "</div>"
      ],
      "text/plain": [
       "    Education Marital_Status   Income  Kidhome  NumWebVisitsMonth  Complain  \\\n",
       "0  Graduation         Single  58138.0        0                  7         0   \n",
       "1  Graduation         Single  46344.0        1                  5         0   \n",
       "2  Graduation       Together  71613.0        0                  4         0   \n",
       "3  Graduation       Together  26646.0        1                  6         0   \n",
       "4         PhD        Married  58293.0        1                  5         0   \n",
       "\n",
       "   children Days_since_enrolment  Age  Total Spending  Prob_wines  \\\n",
       "0         0             663 days   66            1617    0.392703   \n",
       "1         2             113 days   69              27    0.407407   \n",
       "2         0             312 days   58             776    0.548969   \n",
       "3         1             139 days   39              53    0.207547   \n",
       "4         1             161 days   42             422    0.409953   \n",
       "\n",
       "   Prob_fruits  Prob_meatproducts  Prob_fishproducts  Prob_sweetproducts  \\\n",
       "0     0.054422           0.337662           0.106370            0.054422   \n",
       "1     0.037037           0.222222           0.074074            0.037037   \n",
       "2     0.063144           0.163660           0.143041            0.027062   \n",
       "3     0.075472           0.377358           0.188679            0.056604   \n",
       "4     0.101896           0.279621           0.109005            0.063981   \n",
       "\n",
       "   Prop_goldprods  Offers_Responded_To  Total Purchases Age_group  \n",
       "0        0.054422                    1               25     61-70  \n",
       "1        0.222222                    0                6     61-70  \n",
       "2        0.054124                    0               21     51-60  \n",
       "3        0.094340                    0                8     31,40  \n",
       "4        0.035545                    0               19     41-50  "
      ]
     },
     "execution_count": 182,
     "metadata": {},
     "output_type": "execute_result"
    }
   ],
   "source": [
    "df.head()"
   ]
  },
  {
   "cell_type": "code",
   "execution_count": 183,
   "metadata": {},
   "outputs": [
    {
     "data": {
      "text/html": [
       "<div>\n",
       "<style scoped>\n",
       "    .dataframe tbody tr th:only-of-type {\n",
       "        vertical-align: middle;\n",
       "    }\n",
       "\n",
       "    .dataframe tbody tr th {\n",
       "        vertical-align: top;\n",
       "    }\n",
       "\n",
       "    .dataframe thead th {\n",
       "        text-align: right;\n",
       "    }\n",
       "</style>\n",
       "<table border=\"1\" class=\"dataframe\">\n",
       "  <thead>\n",
       "    <tr style=\"text-align: right;\">\n",
       "      <th></th>\n",
       "      <th>Income</th>\n",
       "      <th>Kidhome</th>\n",
       "      <th>NumWebVisitsMonth</th>\n",
       "      <th>Complain</th>\n",
       "      <th>children</th>\n",
       "      <th>Days_since_enrolment</th>\n",
       "      <th>Age</th>\n",
       "      <th>Total Spending</th>\n",
       "      <th>Prob_wines</th>\n",
       "      <th>Prob_fruits</th>\n",
       "      <th>Prob_meatproducts</th>\n",
       "      <th>Prob_fishproducts</th>\n",
       "      <th>Prob_sweetproducts</th>\n",
       "      <th>Prop_goldprods</th>\n",
       "      <th>Offers_Responded_To</th>\n",
       "      <th>Total Purchases</th>\n",
       "    </tr>\n",
       "  </thead>\n",
       "  <tbody>\n",
       "    <tr>\n",
       "      <th>count</th>\n",
       "      <td>2236.000000</td>\n",
       "      <td>2236.000000</td>\n",
       "      <td>2236.000000</td>\n",
       "      <td>2236.000000</td>\n",
       "      <td>2236.000000</td>\n",
       "      <td>2236</td>\n",
       "      <td>2236.000000</td>\n",
       "      <td>2236.000000</td>\n",
       "      <td>2236.000000</td>\n",
       "      <td>2236.000000</td>\n",
       "      <td>2236.000000</td>\n",
       "      <td>2236.000000</td>\n",
       "      <td>2236.000000</td>\n",
       "      <td>2236.000000</td>\n",
       "      <td>2236.000000</td>\n",
       "      <td>2236.000000</td>\n",
       "    </tr>\n",
       "    <tr>\n",
       "      <th>mean</th>\n",
       "      <td>51968.258909</td>\n",
       "      <td>0.444097</td>\n",
       "      <td>5.318873</td>\n",
       "      <td>0.008945</td>\n",
       "      <td>0.950805</td>\n",
       "      <td>353 days 18:33:29.302325580</td>\n",
       "      <td>54.101968</td>\n",
       "      <td>605.986583</td>\n",
       "      <td>0.458789</td>\n",
       "      <td>0.049416</td>\n",
       "      <td>0.249532</td>\n",
       "      <td>0.071387</td>\n",
       "      <td>0.050818</td>\n",
       "      <td>0.120058</td>\n",
       "      <td>0.447227</td>\n",
       "      <td>14.872540</td>\n",
       "    </tr>\n",
       "    <tr>\n",
       "      <th>std</th>\n",
       "      <td>21412.998830</td>\n",
       "      <td>0.538459</td>\n",
       "      <td>2.426886</td>\n",
       "      <td>0.094173</td>\n",
       "      <td>0.752204</td>\n",
       "      <td>202 days 04:21:26.839418520</td>\n",
       "      <td>11.703281</td>\n",
       "      <td>601.865156</td>\n",
       "      <td>0.228457</td>\n",
       "      <td>0.055772</td>\n",
       "      <td>0.126709</td>\n",
       "      <td>0.077790</td>\n",
       "      <td>0.061224</td>\n",
       "      <td>0.108929</td>\n",
       "      <td>0.891113</td>\n",
       "      <td>7.677874</td>\n",
       "    </tr>\n",
       "    <tr>\n",
       "      <th>min</th>\n",
       "      <td>1730.000000</td>\n",
       "      <td>0.000000</td>\n",
       "      <td>0.000000</td>\n",
       "      <td>0.000000</td>\n",
       "      <td>0.000000</td>\n",
       "      <td>0 days 00:00:00</td>\n",
       "      <td>27.000000</td>\n",
       "      <td>5.000000</td>\n",
       "      <td>0.000000</td>\n",
       "      <td>0.000000</td>\n",
       "      <td>0.000000</td>\n",
       "      <td>0.000000</td>\n",
       "      <td>0.000000</td>\n",
       "      <td>0.000000</td>\n",
       "      <td>0.000000</td>\n",
       "      <td>0.000000</td>\n",
       "    </tr>\n",
       "    <tr>\n",
       "      <th>25%</th>\n",
       "      <td>35502.500000</td>\n",
       "      <td>0.000000</td>\n",
       "      <td>3.000000</td>\n",
       "      <td>0.000000</td>\n",
       "      <td>0.000000</td>\n",
       "      <td>180 days 18:00:00</td>\n",
       "      <td>46.000000</td>\n",
       "      <td>69.000000</td>\n",
       "      <td>0.290067</td>\n",
       "      <td>0.008924</td>\n",
       "      <td>0.156250</td>\n",
       "      <td>0.012560</td>\n",
       "      <td>0.008621</td>\n",
       "      <td>0.038081</td>\n",
       "      <td>0.000000</td>\n",
       "      <td>8.000000</td>\n",
       "    </tr>\n",
       "    <tr>\n",
       "      <th>50%</th>\n",
       "      <td>51566.000000</td>\n",
       "      <td>0.000000</td>\n",
       "      <td>6.000000</td>\n",
       "      <td>0.000000</td>\n",
       "      <td>1.000000</td>\n",
       "      <td>356 days 00:00:00</td>\n",
       "      <td>53.000000</td>\n",
       "      <td>396.500000</td>\n",
       "      <td>0.457822</td>\n",
       "      <td>0.029774</td>\n",
       "      <td>0.233447</td>\n",
       "      <td>0.048158</td>\n",
       "      <td>0.033333</td>\n",
       "      <td>0.085714</td>\n",
       "      <td>0.000000</td>\n",
       "      <td>15.000000</td>\n",
       "    </tr>\n",
       "    <tr>\n",
       "      <th>75%</th>\n",
       "      <td>68275.750000</td>\n",
       "      <td>1.000000</td>\n",
       "      <td>7.000000</td>\n",
       "      <td>0.000000</td>\n",
       "      <td>1.000000</td>\n",
       "      <td>529 days 00:00:00</td>\n",
       "      <td>64.000000</td>\n",
       "      <td>1045.500000</td>\n",
       "      <td>0.639765</td>\n",
       "      <td>0.070080</td>\n",
       "      <td>0.328441</td>\n",
       "      <td>0.103809</td>\n",
       "      <td>0.070719</td>\n",
       "      <td>0.169477</td>\n",
       "      <td>1.000000</td>\n",
       "      <td>21.000000</td>\n",
       "    </tr>\n",
       "    <tr>\n",
       "      <th>max</th>\n",
       "      <td>162397.000000</td>\n",
       "      <td>2.000000</td>\n",
       "      <td>20.000000</td>\n",
       "      <td>1.000000</td>\n",
       "      <td>3.000000</td>\n",
       "      <td>699 days 00:00:00</td>\n",
       "      <td>83.000000</td>\n",
       "      <td>2525.000000</td>\n",
       "      <td>0.963303</td>\n",
       "      <td>0.445545</td>\n",
       "      <td>0.997110</td>\n",
       "      <td>0.590909</td>\n",
       "      <td>0.945848</td>\n",
       "      <td>0.894150</td>\n",
       "      <td>5.000000</td>\n",
       "      <td>44.000000</td>\n",
       "    </tr>\n",
       "  </tbody>\n",
       "</table>\n",
       "</div>"
      ],
      "text/plain": [
       "              Income      Kidhome  NumWebVisitsMonth     Complain  \\\n",
       "count    2236.000000  2236.000000        2236.000000  2236.000000   \n",
       "mean    51968.258909     0.444097           5.318873     0.008945   \n",
       "std     21412.998830     0.538459           2.426886     0.094173   \n",
       "min      1730.000000     0.000000           0.000000     0.000000   \n",
       "25%     35502.500000     0.000000           3.000000     0.000000   \n",
       "50%     51566.000000     0.000000           6.000000     0.000000   \n",
       "75%     68275.750000     1.000000           7.000000     0.000000   \n",
       "max    162397.000000     2.000000          20.000000     1.000000   \n",
       "\n",
       "          children         Days_since_enrolment          Age  Total Spending  \\\n",
       "count  2236.000000                         2236  2236.000000     2236.000000   \n",
       "mean      0.950805  353 days 18:33:29.302325580    54.101968      605.986583   \n",
       "std       0.752204  202 days 04:21:26.839418520    11.703281      601.865156   \n",
       "min       0.000000              0 days 00:00:00    27.000000        5.000000   \n",
       "25%       0.000000            180 days 18:00:00    46.000000       69.000000   \n",
       "50%       1.000000            356 days 00:00:00    53.000000      396.500000   \n",
       "75%       1.000000            529 days 00:00:00    64.000000     1045.500000   \n",
       "max       3.000000            699 days 00:00:00    83.000000     2525.000000   \n",
       "\n",
       "        Prob_wines  Prob_fruits  Prob_meatproducts  Prob_fishproducts  \\\n",
       "count  2236.000000  2236.000000        2236.000000        2236.000000   \n",
       "mean      0.458789     0.049416           0.249532           0.071387   \n",
       "std       0.228457     0.055772           0.126709           0.077790   \n",
       "min       0.000000     0.000000           0.000000           0.000000   \n",
       "25%       0.290067     0.008924           0.156250           0.012560   \n",
       "50%       0.457822     0.029774           0.233447           0.048158   \n",
       "75%       0.639765     0.070080           0.328441           0.103809   \n",
       "max       0.963303     0.445545           0.997110           0.590909   \n",
       "\n",
       "       Prob_sweetproducts  Prop_goldprods  Offers_Responded_To  \\\n",
       "count         2236.000000     2236.000000          2236.000000   \n",
       "mean             0.050818        0.120058             0.447227   \n",
       "std              0.061224        0.108929             0.891113   \n",
       "min              0.000000        0.000000             0.000000   \n",
       "25%              0.008621        0.038081             0.000000   \n",
       "50%              0.033333        0.085714             0.000000   \n",
       "75%              0.070719        0.169477             1.000000   \n",
       "max              0.945848        0.894150             5.000000   \n",
       "\n",
       "       Total Purchases  \n",
       "count      2236.000000  \n",
       "mean         14.872540  \n",
       "std           7.677874  \n",
       "min           0.000000  \n",
       "25%           8.000000  \n",
       "50%          15.000000  \n",
       "75%          21.000000  \n",
       "max          44.000000  "
      ]
     },
     "execution_count": 183,
     "metadata": {},
     "output_type": "execute_result"
    }
   ],
   "source": [
    "df.describe()"
   ]
  },
  {
   "cell_type": "code",
   "execution_count": 184,
   "metadata": {},
   "outputs": [],
   "source": [
    "import seaborn as sns\n",
    "import plotly.express as px\n",
    "import plotly.figure_factory as ff\n",
    "import plotly.graph_objects as go"
   ]
  },
  {
   "cell_type": "code",
   "execution_count": 185,
   "metadata": {},
   "outputs": [
    {
     "data": {
      "text/html": [
       "<div>\n",
       "<style scoped>\n",
       "    .dataframe tbody tr th:only-of-type {\n",
       "        vertical-align: middle;\n",
       "    }\n",
       "\n",
       "    .dataframe tbody tr th {\n",
       "        vertical-align: top;\n",
       "    }\n",
       "\n",
       "    .dataframe thead th {\n",
       "        text-align: right;\n",
       "    }\n",
       "</style>\n",
       "<table border=\"1\" class=\"dataframe\">\n",
       "  <thead>\n",
       "    <tr style=\"text-align: right;\">\n",
       "      <th></th>\n",
       "      <th>Age_group</th>\n",
       "      <th>count</th>\n",
       "    </tr>\n",
       "  </thead>\n",
       "  <tbody>\n",
       "    <tr>\n",
       "      <th>0</th>\n",
       "      <td>51-60</td>\n",
       "      <td>620</td>\n",
       "    </tr>\n",
       "    <tr>\n",
       "      <th>1</th>\n",
       "      <td>41-50</td>\n",
       "      <td>619</td>\n",
       "    </tr>\n",
       "    <tr>\n",
       "      <th>2</th>\n",
       "      <td>61-70</td>\n",
       "      <td>465</td>\n",
       "    </tr>\n",
       "    <tr>\n",
       "      <th>3</th>\n",
       "      <td>31,40</td>\n",
       "      <td>286</td>\n",
       "    </tr>\n",
       "    <tr>\n",
       "      <th>4</th>\n",
       "      <td>71-80</td>\n",
       "      <td>229</td>\n",
       "    </tr>\n",
       "    <tr>\n",
       "      <th>5</th>\n",
       "      <td>21-30</td>\n",
       "      <td>15</td>\n",
       "    </tr>\n",
       "    <tr>\n",
       "      <th>6</th>\n",
       "      <td>81-90</td>\n",
       "      <td>2</td>\n",
       "    </tr>\n",
       "    <tr>\n",
       "      <th>7</th>\n",
       "      <td>0-10</td>\n",
       "      <td>0</td>\n",
       "    </tr>\n",
       "    <tr>\n",
       "      <th>8</th>\n",
       "      <td>11-20</td>\n",
       "      <td>0</td>\n",
       "    </tr>\n",
       "  </tbody>\n",
       "</table>\n",
       "</div>"
      ],
      "text/plain": [
       "  Age_group  count\n",
       "0     51-60    620\n",
       "1     41-50    619\n",
       "2     61-70    465\n",
       "3     31,40    286\n",
       "4     71-80    229\n",
       "5     21-30     15\n",
       "6     81-90      2\n",
       "7      0-10      0\n",
       "8     11-20      0"
      ]
     },
     "execution_count": 185,
     "metadata": {},
     "output_type": "execute_result"
    }
   ],
   "source": [
    "age_group = df['Age_group'].value_counts().reset_index()\n",
    "\n",
    "age_group\n"
   ]
  },
  {
   "cell_type": "code",
   "execution_count": 186,
   "metadata": {},
   "outputs": [
    {
     "data": {
      "application/vnd.plotly.v1+json": {
       "config": {
        "plotlyServerURL": "https://plot.ly"
       },
       "data": [
        {
         "alignmentgroup": "True",
         "hovertemplate": "Age_group=%{x}<br>count=%{y}<extra></extra>",
         "legendgroup": "",
         "marker": {
          "color": "#636efa",
          "pattern": {
           "shape": ""
          }
         },
         "name": "",
         "offsetgroup": "",
         "orientation": "v",
         "showlegend": false,
         "textposition": "auto",
         "type": "bar",
         "x": [
          "51-60",
          "41-50",
          "61-70",
          "31,40",
          "71-80",
          "21-30",
          "81-90",
          "0-10",
          "11-20"
         ],
         "xaxis": "x",
         "y": [
          620,
          619,
          465,
          286,
          229,
          15,
          2,
          0,
          0
         ],
         "yaxis": "y"
        }
       ],
       "layout": {
        "barmode": "relative",
        "legend": {
         "tracegroupgap": 0
        },
        "margin": {
         "t": 60
        },
        "template": {
         "data": {
          "bar": [
           {
            "error_x": {
             "color": "#2a3f5f"
            },
            "error_y": {
             "color": "#2a3f5f"
            },
            "marker": {
             "line": {
              "color": "#E5ECF6",
              "width": 0.5
             },
             "pattern": {
              "fillmode": "overlay",
              "size": 10,
              "solidity": 0.2
             }
            },
            "type": "bar"
           }
          ],
          "barpolar": [
           {
            "marker": {
             "line": {
              "color": "#E5ECF6",
              "width": 0.5
             },
             "pattern": {
              "fillmode": "overlay",
              "size": 10,
              "solidity": 0.2
             }
            },
            "type": "barpolar"
           }
          ],
          "carpet": [
           {
            "aaxis": {
             "endlinecolor": "#2a3f5f",
             "gridcolor": "white",
             "linecolor": "white",
             "minorgridcolor": "white",
             "startlinecolor": "#2a3f5f"
            },
            "baxis": {
             "endlinecolor": "#2a3f5f",
             "gridcolor": "white",
             "linecolor": "white",
             "minorgridcolor": "white",
             "startlinecolor": "#2a3f5f"
            },
            "type": "carpet"
           }
          ],
          "choropleth": [
           {
            "colorbar": {
             "outlinewidth": 0,
             "ticks": ""
            },
            "type": "choropleth"
           }
          ],
          "contour": [
           {
            "colorbar": {
             "outlinewidth": 0,
             "ticks": ""
            },
            "colorscale": [
             [
              0,
              "#0d0887"
             ],
             [
              0.1111111111111111,
              "#46039f"
             ],
             [
              0.2222222222222222,
              "#7201a8"
             ],
             [
              0.3333333333333333,
              "#9c179e"
             ],
             [
              0.4444444444444444,
              "#bd3786"
             ],
             [
              0.5555555555555556,
              "#d8576b"
             ],
             [
              0.6666666666666666,
              "#ed7953"
             ],
             [
              0.7777777777777778,
              "#fb9f3a"
             ],
             [
              0.8888888888888888,
              "#fdca26"
             ],
             [
              1,
              "#f0f921"
             ]
            ],
            "type": "contour"
           }
          ],
          "contourcarpet": [
           {
            "colorbar": {
             "outlinewidth": 0,
             "ticks": ""
            },
            "type": "contourcarpet"
           }
          ],
          "heatmap": [
           {
            "colorbar": {
             "outlinewidth": 0,
             "ticks": ""
            },
            "colorscale": [
             [
              0,
              "#0d0887"
             ],
             [
              0.1111111111111111,
              "#46039f"
             ],
             [
              0.2222222222222222,
              "#7201a8"
             ],
             [
              0.3333333333333333,
              "#9c179e"
             ],
             [
              0.4444444444444444,
              "#bd3786"
             ],
             [
              0.5555555555555556,
              "#d8576b"
             ],
             [
              0.6666666666666666,
              "#ed7953"
             ],
             [
              0.7777777777777778,
              "#fb9f3a"
             ],
             [
              0.8888888888888888,
              "#fdca26"
             ],
             [
              1,
              "#f0f921"
             ]
            ],
            "type": "heatmap"
           }
          ],
          "heatmapgl": [
           {
            "colorbar": {
             "outlinewidth": 0,
             "ticks": ""
            },
            "colorscale": [
             [
              0,
              "#0d0887"
             ],
             [
              0.1111111111111111,
              "#46039f"
             ],
             [
              0.2222222222222222,
              "#7201a8"
             ],
             [
              0.3333333333333333,
              "#9c179e"
             ],
             [
              0.4444444444444444,
              "#bd3786"
             ],
             [
              0.5555555555555556,
              "#d8576b"
             ],
             [
              0.6666666666666666,
              "#ed7953"
             ],
             [
              0.7777777777777778,
              "#fb9f3a"
             ],
             [
              0.8888888888888888,
              "#fdca26"
             ],
             [
              1,
              "#f0f921"
             ]
            ],
            "type": "heatmapgl"
           }
          ],
          "histogram": [
           {
            "marker": {
             "pattern": {
              "fillmode": "overlay",
              "size": 10,
              "solidity": 0.2
             }
            },
            "type": "histogram"
           }
          ],
          "histogram2d": [
           {
            "colorbar": {
             "outlinewidth": 0,
             "ticks": ""
            },
            "colorscale": [
             [
              0,
              "#0d0887"
             ],
             [
              0.1111111111111111,
              "#46039f"
             ],
             [
              0.2222222222222222,
              "#7201a8"
             ],
             [
              0.3333333333333333,
              "#9c179e"
             ],
             [
              0.4444444444444444,
              "#bd3786"
             ],
             [
              0.5555555555555556,
              "#d8576b"
             ],
             [
              0.6666666666666666,
              "#ed7953"
             ],
             [
              0.7777777777777778,
              "#fb9f3a"
             ],
             [
              0.8888888888888888,
              "#fdca26"
             ],
             [
              1,
              "#f0f921"
             ]
            ],
            "type": "histogram2d"
           }
          ],
          "histogram2dcontour": [
           {
            "colorbar": {
             "outlinewidth": 0,
             "ticks": ""
            },
            "colorscale": [
             [
              0,
              "#0d0887"
             ],
             [
              0.1111111111111111,
              "#46039f"
             ],
             [
              0.2222222222222222,
              "#7201a8"
             ],
             [
              0.3333333333333333,
              "#9c179e"
             ],
             [
              0.4444444444444444,
              "#bd3786"
             ],
             [
              0.5555555555555556,
              "#d8576b"
             ],
             [
              0.6666666666666666,
              "#ed7953"
             ],
             [
              0.7777777777777778,
              "#fb9f3a"
             ],
             [
              0.8888888888888888,
              "#fdca26"
             ],
             [
              1,
              "#f0f921"
             ]
            ],
            "type": "histogram2dcontour"
           }
          ],
          "mesh3d": [
           {
            "colorbar": {
             "outlinewidth": 0,
             "ticks": ""
            },
            "type": "mesh3d"
           }
          ],
          "parcoords": [
           {
            "line": {
             "colorbar": {
              "outlinewidth": 0,
              "ticks": ""
             }
            },
            "type": "parcoords"
           }
          ],
          "pie": [
           {
            "automargin": true,
            "type": "pie"
           }
          ],
          "scatter": [
           {
            "fillpattern": {
             "fillmode": "overlay",
             "size": 10,
             "solidity": 0.2
            },
            "type": "scatter"
           }
          ],
          "scatter3d": [
           {
            "line": {
             "colorbar": {
              "outlinewidth": 0,
              "ticks": ""
             }
            },
            "marker": {
             "colorbar": {
              "outlinewidth": 0,
              "ticks": ""
             }
            },
            "type": "scatter3d"
           }
          ],
          "scattercarpet": [
           {
            "marker": {
             "colorbar": {
              "outlinewidth": 0,
              "ticks": ""
             }
            },
            "type": "scattercarpet"
           }
          ],
          "scattergeo": [
           {
            "marker": {
             "colorbar": {
              "outlinewidth": 0,
              "ticks": ""
             }
            },
            "type": "scattergeo"
           }
          ],
          "scattergl": [
           {
            "marker": {
             "colorbar": {
              "outlinewidth": 0,
              "ticks": ""
             }
            },
            "type": "scattergl"
           }
          ],
          "scattermapbox": [
           {
            "marker": {
             "colorbar": {
              "outlinewidth": 0,
              "ticks": ""
             }
            },
            "type": "scattermapbox"
           }
          ],
          "scatterpolar": [
           {
            "marker": {
             "colorbar": {
              "outlinewidth": 0,
              "ticks": ""
             }
            },
            "type": "scatterpolar"
           }
          ],
          "scatterpolargl": [
           {
            "marker": {
             "colorbar": {
              "outlinewidth": 0,
              "ticks": ""
             }
            },
            "type": "scatterpolargl"
           }
          ],
          "scatterternary": [
           {
            "marker": {
             "colorbar": {
              "outlinewidth": 0,
              "ticks": ""
             }
            },
            "type": "scatterternary"
           }
          ],
          "surface": [
           {
            "colorbar": {
             "outlinewidth": 0,
             "ticks": ""
            },
            "colorscale": [
             [
              0,
              "#0d0887"
             ],
             [
              0.1111111111111111,
              "#46039f"
             ],
             [
              0.2222222222222222,
              "#7201a8"
             ],
             [
              0.3333333333333333,
              "#9c179e"
             ],
             [
              0.4444444444444444,
              "#bd3786"
             ],
             [
              0.5555555555555556,
              "#d8576b"
             ],
             [
              0.6666666666666666,
              "#ed7953"
             ],
             [
              0.7777777777777778,
              "#fb9f3a"
             ],
             [
              0.8888888888888888,
              "#fdca26"
             ],
             [
              1,
              "#f0f921"
             ]
            ],
            "type": "surface"
           }
          ],
          "table": [
           {
            "cells": {
             "fill": {
              "color": "#EBF0F8"
             },
             "line": {
              "color": "white"
             }
            },
            "header": {
             "fill": {
              "color": "#C8D4E3"
             },
             "line": {
              "color": "white"
             }
            },
            "type": "table"
           }
          ]
         },
         "layout": {
          "annotationdefaults": {
           "arrowcolor": "#2a3f5f",
           "arrowhead": 0,
           "arrowwidth": 1
          },
          "autotypenumbers": "strict",
          "coloraxis": {
           "colorbar": {
            "outlinewidth": 0,
            "ticks": ""
           }
          },
          "colorscale": {
           "diverging": [
            [
             0,
             "#8e0152"
            ],
            [
             0.1,
             "#c51b7d"
            ],
            [
             0.2,
             "#de77ae"
            ],
            [
             0.3,
             "#f1b6da"
            ],
            [
             0.4,
             "#fde0ef"
            ],
            [
             0.5,
             "#f7f7f7"
            ],
            [
             0.6,
             "#e6f5d0"
            ],
            [
             0.7,
             "#b8e186"
            ],
            [
             0.8,
             "#7fbc41"
            ],
            [
             0.9,
             "#4d9221"
            ],
            [
             1,
             "#276419"
            ]
           ],
           "sequential": [
            [
             0,
             "#0d0887"
            ],
            [
             0.1111111111111111,
             "#46039f"
            ],
            [
             0.2222222222222222,
             "#7201a8"
            ],
            [
             0.3333333333333333,
             "#9c179e"
            ],
            [
             0.4444444444444444,
             "#bd3786"
            ],
            [
             0.5555555555555556,
             "#d8576b"
            ],
            [
             0.6666666666666666,
             "#ed7953"
            ],
            [
             0.7777777777777778,
             "#fb9f3a"
            ],
            [
             0.8888888888888888,
             "#fdca26"
            ],
            [
             1,
             "#f0f921"
            ]
           ],
           "sequentialminus": [
            [
             0,
             "#0d0887"
            ],
            [
             0.1111111111111111,
             "#46039f"
            ],
            [
             0.2222222222222222,
             "#7201a8"
            ],
            [
             0.3333333333333333,
             "#9c179e"
            ],
            [
             0.4444444444444444,
             "#bd3786"
            ],
            [
             0.5555555555555556,
             "#d8576b"
            ],
            [
             0.6666666666666666,
             "#ed7953"
            ],
            [
             0.7777777777777778,
             "#fb9f3a"
            ],
            [
             0.8888888888888888,
             "#fdca26"
            ],
            [
             1,
             "#f0f921"
            ]
           ]
          },
          "colorway": [
           "#636efa",
           "#EF553B",
           "#00cc96",
           "#ab63fa",
           "#FFA15A",
           "#19d3f3",
           "#FF6692",
           "#B6E880",
           "#FF97FF",
           "#FECB52"
          ],
          "font": {
           "color": "#2a3f5f"
          },
          "geo": {
           "bgcolor": "white",
           "lakecolor": "white",
           "landcolor": "#E5ECF6",
           "showlakes": true,
           "showland": true,
           "subunitcolor": "white"
          },
          "hoverlabel": {
           "align": "left"
          },
          "hovermode": "closest",
          "mapbox": {
           "style": "light"
          },
          "paper_bgcolor": "white",
          "plot_bgcolor": "#E5ECF6",
          "polar": {
           "angularaxis": {
            "gridcolor": "white",
            "linecolor": "white",
            "ticks": ""
           },
           "bgcolor": "#E5ECF6",
           "radialaxis": {
            "gridcolor": "white",
            "linecolor": "white",
            "ticks": ""
           }
          },
          "scene": {
           "xaxis": {
            "backgroundcolor": "#E5ECF6",
            "gridcolor": "white",
            "gridwidth": 2,
            "linecolor": "white",
            "showbackground": true,
            "ticks": "",
            "zerolinecolor": "white"
           },
           "yaxis": {
            "backgroundcolor": "#E5ECF6",
            "gridcolor": "white",
            "gridwidth": 2,
            "linecolor": "white",
            "showbackground": true,
            "ticks": "",
            "zerolinecolor": "white"
           },
           "zaxis": {
            "backgroundcolor": "#E5ECF6",
            "gridcolor": "white",
            "gridwidth": 2,
            "linecolor": "white",
            "showbackground": true,
            "ticks": "",
            "zerolinecolor": "white"
           }
          },
          "shapedefaults": {
           "line": {
            "color": "#2a3f5f"
           }
          },
          "ternary": {
           "aaxis": {
            "gridcolor": "white",
            "linecolor": "white",
            "ticks": ""
           },
           "baxis": {
            "gridcolor": "white",
            "linecolor": "white",
            "ticks": ""
           },
           "bgcolor": "#E5ECF6",
           "caxis": {
            "gridcolor": "white",
            "linecolor": "white",
            "ticks": ""
           }
          },
          "title": {
           "x": 0.05
          },
          "xaxis": {
           "automargin": true,
           "gridcolor": "white",
           "linecolor": "white",
           "ticks": "",
           "title": {
            "standoff": 15
           },
           "zerolinecolor": "white",
           "zerolinewidth": 2
          },
          "yaxis": {
           "automargin": true,
           "gridcolor": "white",
           "linecolor": "white",
           "ticks": "",
           "title": {
            "standoff": 15
           },
           "zerolinecolor": "white",
           "zerolinewidth": 2
          }
         }
        },
        "xaxis": {
         "anchor": "y",
         "domain": [
          0,
          1
         ],
         "title": {
          "text": "Age_group"
         }
        },
        "yaxis": {
         "anchor": "x",
         "domain": [
          0,
          1
         ],
         "title": {
          "text": "count"
         }
        }
       }
      }
     },
     "metadata": {},
     "output_type": "display_data"
    }
   ],
   "source": [
    "px.bar(age_group, x = 'Age_group', y='count')"
   ]
  },
  {
   "cell_type": "markdown",
   "metadata": {},
   "source": [
    "The analysis reveals a substantial portion of customers falling within the age range of over 30 years. Moreover, the largest concentration is observed among customers aged over 40 but younger than 70. As a result, it would be prudent to prioritize the analysis and focus on these five age groups."
   ]
  },
  {
   "cell_type": "code",
   "execution_count": 193,
   "metadata": {},
   "outputs": [
    {
     "data": {
      "application/vnd.plotly.v1+json": {
       "config": {
        "plotlyServerURL": "https://plot.ly"
       },
       "data": [
        {
         "alignmentgroup": "True",
         "hovertemplate": "Marital_Status=Absurd<br>Age_group=%{x}<br>Count=%{y}<extra></extra>",
         "legendgroup": "Absurd",
         "marker": {
          "color": "#636efa",
          "pattern": {
           "shape": ""
          }
         },
         "name": "Absurd",
         "offsetgroup": "Absurd",
         "orientation": "v",
         "showlegend": true,
         "textposition": "auto",
         "type": "bar",
         "x": [
          "41-50",
          "51-60",
          "61-70",
          "71-80"
         ],
         "xaxis": "x",
         "y": [
          0,
          0,
          1,
          0
         ],
         "yaxis": "y"
        },
        {
         "alignmentgroup": "True",
         "hovertemplate": "Marital_Status=Alone<br>Age_group=%{x}<br>Count=%{y}<extra></extra>",
         "legendgroup": "Alone",
         "marker": {
          "color": "#EF553B",
          "pattern": {
           "shape": ""
          }
         },
         "name": "Alone",
         "offsetgroup": "Alone",
         "orientation": "v",
         "showlegend": true,
         "textposition": "auto",
         "type": "bar",
         "x": [
          "41-50",
          "51-60",
          "61-70",
          "71-80"
         ],
         "xaxis": "x",
         "y": [
          1,
          0,
          1,
          0
         ],
         "yaxis": "y"
        },
        {
         "alignmentgroup": "True",
         "hovertemplate": "Marital_Status=Divorced<br>Age_group=%{x}<br>Count=%{y}<extra></extra>",
         "legendgroup": "Divorced",
         "marker": {
          "color": "#00cc96",
          "pattern": {
           "shape": ""
          }
         },
         "name": "Divorced",
         "offsetgroup": "Divorced",
         "orientation": "v",
         "showlegend": true,
         "textposition": "auto",
         "type": "bar",
         "x": [
          "41-50",
          "51-60",
          "61-70",
          "71-80"
         ],
         "xaxis": "x",
         "y": [
          62,
          81,
          56,
          22
         ],
         "yaxis": "y"
        },
        {
         "alignmentgroup": "True",
         "hovertemplate": "Marital_Status=Married<br>Age_group=%{x}<br>Count=%{y}<extra></extra>",
         "legendgroup": "Married",
         "marker": {
          "color": "#ab63fa",
          "pattern": {
           "shape": ""
          }
         },
         "name": "Married",
         "offsetgroup": "Married",
         "orientation": "v",
         "showlegend": true,
         "textposition": "auto",
         "type": "bar",
         "x": [
          "41-50",
          "51-60",
          "61-70",
          "71-80"
         ],
         "xaxis": "x",
         "y": [
          262,
          241,
          162,
          76
         ],
         "yaxis": "y"
        },
        {
         "alignmentgroup": "True",
         "hovertemplate": "Marital_Status=Single<br>Age_group=%{x}<br>Count=%{y}<extra></extra>",
         "legendgroup": "Single",
         "marker": {
          "color": "#FFA15A",
          "pattern": {
           "shape": ""
          }
         },
         "name": "Single",
         "offsetgroup": "Single",
         "orientation": "v",
         "showlegend": true,
         "textposition": "auto",
         "type": "bar",
         "x": [
          "41-50",
          "51-60",
          "61-70",
          "71-80"
         ],
         "xaxis": "x",
         "y": [
          120,
          129,
          82,
          37
         ],
         "yaxis": "y"
        },
        {
         "alignmentgroup": "True",
         "hovertemplate": "Marital_Status=Together<br>Age_group=%{x}<br>Count=%{y}<extra></extra>",
         "legendgroup": "Together",
         "marker": {
          "color": "#19d3f3",
          "pattern": {
           "shape": ""
          }
         },
         "name": "Together",
         "offsetgroup": "Together",
         "orientation": "v",
         "showlegend": true,
         "textposition": "auto",
         "type": "bar",
         "x": [
          "41-50",
          "51-60",
          "61-70",
          "71-80"
         ],
         "xaxis": "x",
         "y": [
          165,
          149,
          140,
          67
         ],
         "yaxis": "y"
        },
        {
         "alignmentgroup": "True",
         "hovertemplate": "Marital_Status=Widow<br>Age_group=%{x}<br>Count=%{y}<extra></extra>",
         "legendgroup": "Widow",
         "marker": {
          "color": "#FF6692",
          "pattern": {
           "shape": ""
          }
         },
         "name": "Widow",
         "offsetgroup": "Widow",
         "orientation": "v",
         "showlegend": true,
         "textposition": "auto",
         "type": "bar",
         "x": [
          "41-50",
          "51-60",
          "61-70",
          "71-80"
         ],
         "xaxis": "x",
         "y": [
          7,
          20,
          23,
          27
         ],
         "yaxis": "y"
        },
        {
         "alignmentgroup": "True",
         "hovertemplate": "Marital_Status=YOLO<br>Age_group=%{x}<br>Count=%{y}<extra></extra>",
         "legendgroup": "YOLO",
         "marker": {
          "color": "#B6E880",
          "pattern": {
           "shape": ""
          }
         },
         "name": "YOLO",
         "offsetgroup": "YOLO",
         "orientation": "v",
         "showlegend": true,
         "textposition": "auto",
         "type": "bar",
         "x": [
          "41-50",
          "51-60",
          "61-70",
          "71-80"
         ],
         "xaxis": "x",
         "y": [
          2,
          0,
          0,
          0
         ],
         "yaxis": "y"
        }
       ],
       "layout": {
        "barmode": "group",
        "legend": {
         "title": {
          "text": "Marital_Status"
         },
         "tracegroupgap": 0
        },
        "margin": {
         "t": 60
        },
        "template": {
         "data": {
          "bar": [
           {
            "error_x": {
             "color": "#2a3f5f"
            },
            "error_y": {
             "color": "#2a3f5f"
            },
            "marker": {
             "line": {
              "color": "#E5ECF6",
              "width": 0.5
             },
             "pattern": {
              "fillmode": "overlay",
              "size": 10,
              "solidity": 0.2
             }
            },
            "type": "bar"
           }
          ],
          "barpolar": [
           {
            "marker": {
             "line": {
              "color": "#E5ECF6",
              "width": 0.5
             },
             "pattern": {
              "fillmode": "overlay",
              "size": 10,
              "solidity": 0.2
             }
            },
            "type": "barpolar"
           }
          ],
          "carpet": [
           {
            "aaxis": {
             "endlinecolor": "#2a3f5f",
             "gridcolor": "white",
             "linecolor": "white",
             "minorgridcolor": "white",
             "startlinecolor": "#2a3f5f"
            },
            "baxis": {
             "endlinecolor": "#2a3f5f",
             "gridcolor": "white",
             "linecolor": "white",
             "minorgridcolor": "white",
             "startlinecolor": "#2a3f5f"
            },
            "type": "carpet"
           }
          ],
          "choropleth": [
           {
            "colorbar": {
             "outlinewidth": 0,
             "ticks": ""
            },
            "type": "choropleth"
           }
          ],
          "contour": [
           {
            "colorbar": {
             "outlinewidth": 0,
             "ticks": ""
            },
            "colorscale": [
             [
              0,
              "#0d0887"
             ],
             [
              0.1111111111111111,
              "#46039f"
             ],
             [
              0.2222222222222222,
              "#7201a8"
             ],
             [
              0.3333333333333333,
              "#9c179e"
             ],
             [
              0.4444444444444444,
              "#bd3786"
             ],
             [
              0.5555555555555556,
              "#d8576b"
             ],
             [
              0.6666666666666666,
              "#ed7953"
             ],
             [
              0.7777777777777778,
              "#fb9f3a"
             ],
             [
              0.8888888888888888,
              "#fdca26"
             ],
             [
              1,
              "#f0f921"
             ]
            ],
            "type": "contour"
           }
          ],
          "contourcarpet": [
           {
            "colorbar": {
             "outlinewidth": 0,
             "ticks": ""
            },
            "type": "contourcarpet"
           }
          ],
          "heatmap": [
           {
            "colorbar": {
             "outlinewidth": 0,
             "ticks": ""
            },
            "colorscale": [
             [
              0,
              "#0d0887"
             ],
             [
              0.1111111111111111,
              "#46039f"
             ],
             [
              0.2222222222222222,
              "#7201a8"
             ],
             [
              0.3333333333333333,
              "#9c179e"
             ],
             [
              0.4444444444444444,
              "#bd3786"
             ],
             [
              0.5555555555555556,
              "#d8576b"
             ],
             [
              0.6666666666666666,
              "#ed7953"
             ],
             [
              0.7777777777777778,
              "#fb9f3a"
             ],
             [
              0.8888888888888888,
              "#fdca26"
             ],
             [
              1,
              "#f0f921"
             ]
            ],
            "type": "heatmap"
           }
          ],
          "heatmapgl": [
           {
            "colorbar": {
             "outlinewidth": 0,
             "ticks": ""
            },
            "colorscale": [
             [
              0,
              "#0d0887"
             ],
             [
              0.1111111111111111,
              "#46039f"
             ],
             [
              0.2222222222222222,
              "#7201a8"
             ],
             [
              0.3333333333333333,
              "#9c179e"
             ],
             [
              0.4444444444444444,
              "#bd3786"
             ],
             [
              0.5555555555555556,
              "#d8576b"
             ],
             [
              0.6666666666666666,
              "#ed7953"
             ],
             [
              0.7777777777777778,
              "#fb9f3a"
             ],
             [
              0.8888888888888888,
              "#fdca26"
             ],
             [
              1,
              "#f0f921"
             ]
            ],
            "type": "heatmapgl"
           }
          ],
          "histogram": [
           {
            "marker": {
             "pattern": {
              "fillmode": "overlay",
              "size": 10,
              "solidity": 0.2
             }
            },
            "type": "histogram"
           }
          ],
          "histogram2d": [
           {
            "colorbar": {
             "outlinewidth": 0,
             "ticks": ""
            },
            "colorscale": [
             [
              0,
              "#0d0887"
             ],
             [
              0.1111111111111111,
              "#46039f"
             ],
             [
              0.2222222222222222,
              "#7201a8"
             ],
             [
              0.3333333333333333,
              "#9c179e"
             ],
             [
              0.4444444444444444,
              "#bd3786"
             ],
             [
              0.5555555555555556,
              "#d8576b"
             ],
             [
              0.6666666666666666,
              "#ed7953"
             ],
             [
              0.7777777777777778,
              "#fb9f3a"
             ],
             [
              0.8888888888888888,
              "#fdca26"
             ],
             [
              1,
              "#f0f921"
             ]
            ],
            "type": "histogram2d"
           }
          ],
          "histogram2dcontour": [
           {
            "colorbar": {
             "outlinewidth": 0,
             "ticks": ""
            },
            "colorscale": [
             [
              0,
              "#0d0887"
             ],
             [
              0.1111111111111111,
              "#46039f"
             ],
             [
              0.2222222222222222,
              "#7201a8"
             ],
             [
              0.3333333333333333,
              "#9c179e"
             ],
             [
              0.4444444444444444,
              "#bd3786"
             ],
             [
              0.5555555555555556,
              "#d8576b"
             ],
             [
              0.6666666666666666,
              "#ed7953"
             ],
             [
              0.7777777777777778,
              "#fb9f3a"
             ],
             [
              0.8888888888888888,
              "#fdca26"
             ],
             [
              1,
              "#f0f921"
             ]
            ],
            "type": "histogram2dcontour"
           }
          ],
          "mesh3d": [
           {
            "colorbar": {
             "outlinewidth": 0,
             "ticks": ""
            },
            "type": "mesh3d"
           }
          ],
          "parcoords": [
           {
            "line": {
             "colorbar": {
              "outlinewidth": 0,
              "ticks": ""
             }
            },
            "type": "parcoords"
           }
          ],
          "pie": [
           {
            "automargin": true,
            "type": "pie"
           }
          ],
          "scatter": [
           {
            "fillpattern": {
             "fillmode": "overlay",
             "size": 10,
             "solidity": 0.2
            },
            "type": "scatter"
           }
          ],
          "scatter3d": [
           {
            "line": {
             "colorbar": {
              "outlinewidth": 0,
              "ticks": ""
             }
            },
            "marker": {
             "colorbar": {
              "outlinewidth": 0,
              "ticks": ""
             }
            },
            "type": "scatter3d"
           }
          ],
          "scattercarpet": [
           {
            "marker": {
             "colorbar": {
              "outlinewidth": 0,
              "ticks": ""
             }
            },
            "type": "scattercarpet"
           }
          ],
          "scattergeo": [
           {
            "marker": {
             "colorbar": {
              "outlinewidth": 0,
              "ticks": ""
             }
            },
            "type": "scattergeo"
           }
          ],
          "scattergl": [
           {
            "marker": {
             "colorbar": {
              "outlinewidth": 0,
              "ticks": ""
             }
            },
            "type": "scattergl"
           }
          ],
          "scattermapbox": [
           {
            "marker": {
             "colorbar": {
              "outlinewidth": 0,
              "ticks": ""
             }
            },
            "type": "scattermapbox"
           }
          ],
          "scatterpolar": [
           {
            "marker": {
             "colorbar": {
              "outlinewidth": 0,
              "ticks": ""
             }
            },
            "type": "scatterpolar"
           }
          ],
          "scatterpolargl": [
           {
            "marker": {
             "colorbar": {
              "outlinewidth": 0,
              "ticks": ""
             }
            },
            "type": "scatterpolargl"
           }
          ],
          "scatterternary": [
           {
            "marker": {
             "colorbar": {
              "outlinewidth": 0,
              "ticks": ""
             }
            },
            "type": "scatterternary"
           }
          ],
          "surface": [
           {
            "colorbar": {
             "outlinewidth": 0,
             "ticks": ""
            },
            "colorscale": [
             [
              0,
              "#0d0887"
             ],
             [
              0.1111111111111111,
              "#46039f"
             ],
             [
              0.2222222222222222,
              "#7201a8"
             ],
             [
              0.3333333333333333,
              "#9c179e"
             ],
             [
              0.4444444444444444,
              "#bd3786"
             ],
             [
              0.5555555555555556,
              "#d8576b"
             ],
             [
              0.6666666666666666,
              "#ed7953"
             ],
             [
              0.7777777777777778,
              "#fb9f3a"
             ],
             [
              0.8888888888888888,
              "#fdca26"
             ],
             [
              1,
              "#f0f921"
             ]
            ],
            "type": "surface"
           }
          ],
          "table": [
           {
            "cells": {
             "fill": {
              "color": "#EBF0F8"
             },
             "line": {
              "color": "white"
             }
            },
            "header": {
             "fill": {
              "color": "#C8D4E3"
             },
             "line": {
              "color": "white"
             }
            },
            "type": "table"
           }
          ]
         },
         "layout": {
          "annotationdefaults": {
           "arrowcolor": "#2a3f5f",
           "arrowhead": 0,
           "arrowwidth": 1
          },
          "autotypenumbers": "strict",
          "coloraxis": {
           "colorbar": {
            "outlinewidth": 0,
            "ticks": ""
           }
          },
          "colorscale": {
           "diverging": [
            [
             0,
             "#8e0152"
            ],
            [
             0.1,
             "#c51b7d"
            ],
            [
             0.2,
             "#de77ae"
            ],
            [
             0.3,
             "#f1b6da"
            ],
            [
             0.4,
             "#fde0ef"
            ],
            [
             0.5,
             "#f7f7f7"
            ],
            [
             0.6,
             "#e6f5d0"
            ],
            [
             0.7,
             "#b8e186"
            ],
            [
             0.8,
             "#7fbc41"
            ],
            [
             0.9,
             "#4d9221"
            ],
            [
             1,
             "#276419"
            ]
           ],
           "sequential": [
            [
             0,
             "#0d0887"
            ],
            [
             0.1111111111111111,
             "#46039f"
            ],
            [
             0.2222222222222222,
             "#7201a8"
            ],
            [
             0.3333333333333333,
             "#9c179e"
            ],
            [
             0.4444444444444444,
             "#bd3786"
            ],
            [
             0.5555555555555556,
             "#d8576b"
            ],
            [
             0.6666666666666666,
             "#ed7953"
            ],
            [
             0.7777777777777778,
             "#fb9f3a"
            ],
            [
             0.8888888888888888,
             "#fdca26"
            ],
            [
             1,
             "#f0f921"
            ]
           ],
           "sequentialminus": [
            [
             0,
             "#0d0887"
            ],
            [
             0.1111111111111111,
             "#46039f"
            ],
            [
             0.2222222222222222,
             "#7201a8"
            ],
            [
             0.3333333333333333,
             "#9c179e"
            ],
            [
             0.4444444444444444,
             "#bd3786"
            ],
            [
             0.5555555555555556,
             "#d8576b"
            ],
            [
             0.6666666666666666,
             "#ed7953"
            ],
            [
             0.7777777777777778,
             "#fb9f3a"
            ],
            [
             0.8888888888888888,
             "#fdca26"
            ],
            [
             1,
             "#f0f921"
            ]
           ]
          },
          "colorway": [
           "#636efa",
           "#EF553B",
           "#00cc96",
           "#ab63fa",
           "#FFA15A",
           "#19d3f3",
           "#FF6692",
           "#B6E880",
           "#FF97FF",
           "#FECB52"
          ],
          "font": {
           "color": "#2a3f5f"
          },
          "geo": {
           "bgcolor": "white",
           "lakecolor": "white",
           "landcolor": "#E5ECF6",
           "showlakes": true,
           "showland": true,
           "subunitcolor": "white"
          },
          "hoverlabel": {
           "align": "left"
          },
          "hovermode": "closest",
          "mapbox": {
           "style": "light"
          },
          "paper_bgcolor": "white",
          "plot_bgcolor": "#E5ECF6",
          "polar": {
           "angularaxis": {
            "gridcolor": "white",
            "linecolor": "white",
            "ticks": ""
           },
           "bgcolor": "#E5ECF6",
           "radialaxis": {
            "gridcolor": "white",
            "linecolor": "white",
            "ticks": ""
           }
          },
          "scene": {
           "xaxis": {
            "backgroundcolor": "#E5ECF6",
            "gridcolor": "white",
            "gridwidth": 2,
            "linecolor": "white",
            "showbackground": true,
            "ticks": "",
            "zerolinecolor": "white"
           },
           "yaxis": {
            "backgroundcolor": "#E5ECF6",
            "gridcolor": "white",
            "gridwidth": 2,
            "linecolor": "white",
            "showbackground": true,
            "ticks": "",
            "zerolinecolor": "white"
           },
           "zaxis": {
            "backgroundcolor": "#E5ECF6",
            "gridcolor": "white",
            "gridwidth": 2,
            "linecolor": "white",
            "showbackground": true,
            "ticks": "",
            "zerolinecolor": "white"
           }
          },
          "shapedefaults": {
           "line": {
            "color": "#2a3f5f"
           }
          },
          "ternary": {
           "aaxis": {
            "gridcolor": "white",
            "linecolor": "white",
            "ticks": ""
           },
           "baxis": {
            "gridcolor": "white",
            "linecolor": "white",
            "ticks": ""
           },
           "bgcolor": "#E5ECF6",
           "caxis": {
            "gridcolor": "white",
            "linecolor": "white",
            "ticks": ""
           }
          },
          "title": {
           "x": 0.05
          },
          "xaxis": {
           "automargin": true,
           "gridcolor": "white",
           "linecolor": "white",
           "ticks": "",
           "title": {
            "standoff": 15
           },
           "zerolinecolor": "white",
           "zerolinewidth": 2
          },
          "yaxis": {
           "automargin": true,
           "gridcolor": "white",
           "linecolor": "white",
           "ticks": "",
           "title": {
            "standoff": 15
           },
           "zerolinecolor": "white",
           "zerolinewidth": 2
          }
         }
        },
        "xaxis": {
         "anchor": "y",
         "domain": [
          0,
          1
         ],
         "title": {
          "text": "Age_group"
         }
        },
        "yaxis": {
         "anchor": "x",
         "domain": [
          0,
          1
         ],
         "title": {
          "text": "Count"
         }
        }
       }
      }
     },
     "metadata": {},
     "output_type": "display_data"
    }
   ],
   "source": [
    "customers_age_ms_group = df.groupby([\"Age_group\", \"Marital_Status\"]).size()\\\n",
    "                                                                .reset_index(name=\"Count\")\n",
    "\n",
    "target_age_groups = [\"31-40\", \"41-50\", \"51-60\", \"61-70\", \"71-80\"]\n",
    "\n",
    "fig = px.bar(customers_age_ms_group.loc[customers_age_ms_group.Age_group.isin(target_age_groups), :], \n",
    "             x=\"Age_group\", y=\"Count\", color=\"Marital_Status\", barmode=\"group\")\n",
    "fig.show()"
   ]
  }
 ],
 "metadata": {
  "kernelspec": {
   "display_name": "Python 3",
   "language": "python",
   "name": "python3"
  },
  "language_info": {
   "codemirror_mode": {
    "name": "ipython",
    "version": 3
   },
   "file_extension": ".py",
   "mimetype": "text/x-python",
   "name": "python",
   "nbconvert_exporter": "python",
   "pygments_lexer": "ipython3",
   "version": "3.11.1"
  },
  "orig_nbformat": 4
 },
 "nbformat": 4,
 "nbformat_minor": 2
}
